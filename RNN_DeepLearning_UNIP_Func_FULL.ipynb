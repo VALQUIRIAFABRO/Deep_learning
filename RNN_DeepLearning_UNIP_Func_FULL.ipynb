{
  "nbformat": 4,
  "nbformat_minor": 0,
  "metadata": {
    "kernelspec": {
      "display_name": "Python 3",
      "language": "python",
      "name": "python3"
    },
    "language_info": {
      "codemirror_mode": {
        "name": "ipython",
        "version": 3
      },
      "file_extension": ".py",
      "mimetype": "text/x-python",
      "name": "python",
      "nbconvert_exporter": "python",
      "pygments_lexer": "ipython3",
      "version": "3.7.7"
    },
    "colab": {
      "name": "Cópia de RNN_DeepLearning_UNIP_Func_FULL.ipynb",
      "provenance": [],
      "include_colab_link": true
    }
  },
  "cells": [
    {
      "cell_type": "markdown",
      "metadata": {
        "id": "view-in-github",
        "colab_type": "text"
      },
      "source": [
        "<a href=\"https://colab.research.google.com/github/VALQUIRIAFABRO/Deep_learning/blob/master/RNN_DeepLearning_UNIP_Func_FULL.ipynb\" target=\"_parent\"><img src=\"https://colab.research.google.com/assets/colab-badge.svg\" alt=\"Open In Colab\"/></a>"
      ]
    },
    {
      "cell_type": "markdown",
      "metadata": {
        "id": "zPee-DwJNonT",
        "colab_type": "text"
      },
      "source": [
        "### Implementação de uma RNN"
      ]
    },
    {
      "cell_type": "code",
      "metadata": {
        "id": "OUSmL6BnNonU",
        "colab_type": "code",
        "colab": {}
      },
      "source": [
        "import pandas as pd\n",
        "import numpy as np\n",
        "import matplotlib #library para gráficos\n",
        "import matplotlib.pyplot as plt\n",
        "import sklearn #library de machine learning\n",
        "from sklearn.datasets import load_breast_cancer #dataset\n",
        "from sklearn.model_selection import train_test_split\n",
        "from sklearn.metrics import classification_report\n",
        "import time"
      ],
      "execution_count": null,
      "outputs": []
    },
    {
      "cell_type": "markdown",
      "metadata": {
        "id": "pHIbXkpfNonZ",
        "colab_type": "text"
      },
      "source": [
        "### Função Para Inicialização de Pesos"
      ]
    },
    {
      "cell_type": "code",
      "metadata": {
        "id": "itiZ9PU3Nona",
        "colab_type": "code",
        "colab": {}
      },
      "source": [
        "# Função para inicialização randômica dos parâmetros do modelo\n",
        "def inicializa_parametros(dims_camada_entrada):\n",
        "    \n",
        "    # Dicionário para os parâmetros\n",
        "    parameters = {}\n",
        "    \n",
        "    # Comprimento das dimensões das camadas\n",
        "    comp = len(dims_camada_entrada)\n",
        "    \n",
        "    # Loop pelo comprimento\n",
        "    for i in range(1, comp):\n",
        "        \n",
        "        # Inicialização da matriz de pesos\n",
        "        parameters[\"W\" + str(i)] = np.random.randn(dims_camada_entrada[i], dims_camada_entrada[i - 1]) * 0.01\n",
        "        \n",
        "        # Inicialização do bias\n",
        "        parameters[\"b\" + str(i)] = np.zeros((dims_camada_entrada[i], 1))\n",
        "    \n",
        "    return parameters"
      ],
      "execution_count": null,
      "outputs": []
    },
    {
      "cell_type": "code",
      "metadata": {
        "id": "B9PRg_UFNone",
        "colab_type": "code",
        "colab": {}
      },
      "source": [
        "# Função sigmóide\n",
        "'''\n",
        "Utilizamos a função sigmóide pois permite converter números para valores entre 0 e 1.\n",
        "Usada para modelos em que temos que prever a probabilidade como uma saída, sendo qualquer item existente no inmtervalo entre 0 e 1.\n",
        "'''\n",
        "def sigmoid(Z):\n",
        "    A = 1 / (1 + np.exp(-Z))\n",
        "    return A, Z"
      ],
      "execution_count": null,
      "outputs": []
    },
    {
      "cell_type": "code",
      "metadata": {
        "id": "J9lcEngANoni",
        "colab_type": "code",
        "colab": {}
      },
      "source": [
        "# Função de ativação ReLu (Rectified Linear Unit)\n",
        "'''\n",
        "Fynção de ativação para utilizarmos na descida do SGD com retropropagação de erros.\n",
        "'''\n",
        "def relu(Z):\n",
        "    A = abs(Z * (Z > 0))\n",
        "    return A, Z"
      ],
      "execution_count": null,
      "outputs": []
    },
    {
      "cell_type": "code",
      "metadata": {
        "id": "GhSUEdqfNonm",
        "colab_type": "code",
        "colab": {}
      },
      "source": [
        "# Operação de ativação\n",
        "def linear_activation(A, W, b):\n",
        "    Z = np.dot(W, A) + b\n",
        "    cache = (A, W, b)\n",
        "    return Z, cache\n",
        "\n",
        "#\"A\": matriz com os dados de entrad / \"W\": matriz de pesos / \"b\": bias"
      ],
      "execution_count": null,
      "outputs": []
    },
    {
      "cell_type": "markdown",
      "metadata": {
        "id": "j6tzKsQ9Nonq",
        "colab_type": "text"
      },
      "source": [
        "### Forward Propagation"
      ]
    },
    {
      "cell_type": "code",
      "metadata": {
        "id": "ixJ9JcMyNonr",
        "colab_type": "code",
        "colab": {}
      },
      "source": [
        "# Movimento forward\n",
        "def forward(A_prev, W, b, activation):\n",
        "    \n",
        "    # Se a função de ativação for Sigmoid\n",
        "    if activation == \"sigmoid\":\n",
        "        Z, linear_cache = linear_activation(A_prev, W, b)\n",
        "        A, activation_cache = sigmoid(Z)\n",
        "        \n",
        "    # Se for ReLu    \n",
        "    elif activation == \"relu\":\n",
        "        Z, linear_cache = linear_activation(A_prev, W, b)\n",
        "        A, activation_cache = relu(Z)\n",
        "        \n",
        "    cache = (linear_cache, activation_cache)\n",
        "    \n",
        "    return A, cache"
      ],
      "execution_count": null,
      "outputs": []
    },
    {
      "cell_type": "code",
      "metadata": {
        "id": "21rGhJcJNonu",
        "colab_type": "code",
        "colab": {}
      },
      "source": [
        "#Combinando Ativação e Propagação\n",
        "\n",
        "# Propagação forward\n",
        "def forward_propagation(X, parameters):\n",
        "    \n",
        "    # Lista de valores anteriores (cache)\n",
        "    caches = []\n",
        "    \n",
        "    # Dados de entrada\n",
        "    A = X\n",
        "    \n",
        "    # Comprimento dos parâmetros\n",
        "    L = len(parameters) // 2\n",
        "   \n",
        "    # Loop\n",
        "    for i in range(1, L):\n",
        "      \n",
        "        # Guarda o valor prévio de A\n",
        "        A_prev = A\n",
        "        \n",
        "        # Executa o forward\n",
        "        A, cache = forward(A_prev, parameters[\"W\" + str(i)], parameters[\"b\" + str(i)], activation = \"relu\")\n",
        "        \n",
        "        # Grava o cache\n",
        "        caches.append(cache)\n",
        "    \n",
        "    # Saída na última camada\n",
        "    A_last, cache = forward(A, parameters[\"W\" + str(L)], parameters[\"b\" + str(L)], activation = \"sigmoid\")\n",
        "    \n",
        "    # Grava o cache\n",
        "    caches.append(cache)\n",
        "    \n",
        "    return(A_last, caches)"
      ],
      "execution_count": null,
      "outputs": []
    },
    {
      "cell_type": "markdown",
      "metadata": {
        "id": "uBxc7KqsNon1",
        "colab_type": "text"
      },
      "source": [
        "### Função de Custo (Cost Function)"
      ]
    },
    {
      "cell_type": "code",
      "metadata": {
        "id": "zi-r4sdnNon2",
        "colab_type": "code",
        "colab": {}
      },
      "source": [
        "def calc_custo(A_last, Y):\n",
        "    \n",
        "    # Ajusta o shape de Y para obter seu comprimento (total de elementos)\n",
        "    m = Y.shape[1]\n",
        "    \n",
        "    # Calcula o custo comparando valor real e previso\n",
        "    custo = (-1 / m) * np.sum((Y * np.log(A_last)) + ((1 - Y) * np.log(1 - A_last)))\n",
        "    \n",
        "    # Ajusta o shape do custo\n",
        "    custo = np.squeeze(custo)\n",
        "    \n",
        "    return(custo)"
      ],
      "execution_count": null,
      "outputs": []
    },
    {
      "cell_type": "markdown",
      "metadata": {
        "id": "32CTkxalNon5",
        "colab_type": "text"
      },
      "source": [
        "### Backward Propagation - Função Sigmóide Backward"
      ]
    },
    {
      "cell_type": "code",
      "metadata": {
        "id": "Lxar-Uj1Non7",
        "colab_type": "code",
        "colab": {}
      },
      "source": [
        "# Função sigmoid para o backpropagation \n",
        "# Cálculo da derivada pois temos interessa na informação relacionada a sua variação\n",
        "def sigmoid_backward(da, Z):\n",
        "    \n",
        "    # Calculo da derivada de Z\n",
        "    dg = (1 / (1 + np.exp(-Z))) * (1 - (1 / (1 + np.exp(-Z))))\n",
        "    \n",
        "    # Identificação da alteração na derivada de z\n",
        "    dz = da * dg\n",
        "    return dz"
      ],
      "execution_count": null,
      "outputs": []
    },
    {
      "cell_type": "markdown",
      "metadata": {
        "id": "aY7c3qGXNooC",
        "colab_type": "text"
      },
      "source": [
        "#### Backward Propagation - Função ReLu Backward"
      ]
    },
    {
      "cell_type": "code",
      "metadata": {
        "id": "X6plaSbENooD",
        "colab_type": "code",
        "colab": {}
      },
      "source": [
        "def relu_backward(da, Z):\n",
        "    \n",
        "    dg = 1 * ( Z >= 0)\n",
        "    dz = da * dg\n",
        "    return dz\n",
        "\n",
        "#Os interesses são os mesmos da função sigmóide no que se refere a informação d avriação."
      ],
      "execution_count": null,
      "outputs": []
    },
    {
      "cell_type": "markdown",
      "metadata": {
        "id": "1XO6Ol8JNooH",
        "colab_type": "text"
      },
      "source": [
        "### Backward Propagation - Ativação Linear Backward"
      ]
    },
    {
      "cell_type": "code",
      "metadata": {
        "id": "Tm-MqIBaNooI",
        "colab_type": "code",
        "colab": {}
      },
      "source": [
        "def linear_backward_function(dz, cache):\n",
        "    \n",
        "    # Recebe valor da memória (cache)\n",
        "    A_prev, W, b = cache\n",
        "    \n",
        "    # Shape de m\n",
        "    m = A_prev.shape[1]\n",
        "    \n",
        "    # Calculo da derivada de W (Result. operação com dz)\n",
        "    dW = (1 / m) * np.dot(dz, A_prev.T)\n",
        "    \n",
        "    # Calculo da derivada de b (Result. operação com dz)\n",
        "    db = (1 / m) * np.sum(dz, axis = 1, keepdims = True)\n",
        "    \n",
        "    # Calculo da derivada da operação\n",
        "    dA_prev = np.dot(W.T, dz)\n",
        "    \n",
        "    return dA_prev, dW, db"
      ],
      "execution_count": null,
      "outputs": []
    },
    {
      "cell_type": "markdown",
      "metadata": {
        "id": "T8CX54qLNooM",
        "colab_type": "text"
      },
      "source": [
        "### Backward Propagation - Ativação Linear Backward"
      ]
    },
    {
      "cell_type": "code",
      "metadata": {
        "id": "lhkOwR1rNooN",
        "colab_type": "code",
        "colab": {}
      },
      "source": [
        "# Tipo de ativação (relu ou sigmoid)\n",
        "def linear_activation_backward(dA, cache, activation):\n",
        "    \n",
        "    # Extrai o cache\n",
        "    linear_cache, activation_cache = cache\n",
        "    \n",
        "    # Verifica se é ReLu\n",
        "    if activation == \"relu\":\n",
        "        dZ = relu_backward(dA, activation_cache)\n",
        "        dA_prev, dW, db = linear_backward_function(dZ, linear_cache)\n",
        "        \n",
        "    # Verifica se é Sigmoid\n",
        "    if activation == \"sigmoid\":\n",
        "        dZ = sigmoid_backward(dA, activation_cache)\n",
        "        dA_prev, dW, db = linear_backward_function(dZ, linear_cache)\n",
        "        \n",
        "    return dA_prev, dW, db"
      ],
      "execution_count": null,
      "outputs": []
    },
    {
      "cell_type": "markdown",
      "metadata": {
        "id": "u7o0MmjcNooQ",
        "colab_type": "text"
      },
      "source": [
        "### Algoritmo Backpropagation"
      ]
    },
    {
      "cell_type": "code",
      "metadata": {
        "id": "_1YxT9jCNooR",
        "colab_type": "code",
        "colab": {}
      },
      "source": [
        "def backward_propagation(AL, Y, caches):\n",
        "    \n",
        "    grads = {}\n",
        "    L = len(caches)\n",
        "    m = AL.shape[1]\n",
        "    \n",
        "    # Ajusta o shape de Y\n",
        "    Y = Y.reshape(AL.shape)\n",
        "    \n",
        "    # Calcula a derivada da previsão final da rede(ForwardPropagation) e em seguida recupera o valor atual do cache\n",
        "    dAL = -((Y / AL) - ((1 - Y) / (1 - AL)))\n",
        "    current_cache = caches[L - 1]\n",
        "    \n",
        "    # Geração da a lista de gradiente para: dados, pesos e bias\n",
        "    grads[\"dA\" + str(L - 1)], grads[\"dW\" + str(L)], grads[\"db\" + str(L)] = linear_activation_backward(dAL, current_cache, activation = \"sigmoid\")\n",
        "    \n",
        "    # Loop para calculao durante as ativações utilizando a ReLu\n",
        "    for l in reversed(range(L - 1)):\n",
        "        \n",
        "        # Memória atual + Calc de derivadas.\n",
        "        current_cache = caches[l]\n",
        "        dA_prev, dW, db = linear_activation_backward(grads[\"dA\" + str(l + 1)], current_cache, activation = \"relu\")\n",
        "        \n",
        "        # Dá infos para os gradientes, usando o índice relacionado\n",
        "        grads[\"dA\" + str(l)] = dA_prev\n",
        "        grads[\"dW\" + str(l + 1)] = dW\n",
        "        grads[\"db\" + str(l + 1)] = db\n",
        "        \n",
        "    return grads"
      ],
      "execution_count": null,
      "outputs": []
    },
    {
      "cell_type": "markdown",
      "metadata": {
        "id": "ELDQH0eANooU",
        "colab_type": "text"
      },
      "source": [
        "### Gradientes e Pesos"
      ]
    },
    {
      "cell_type": "code",
      "metadata": {
        "id": "a-FQ3oRtNooV",
        "colab_type": "code",
        "colab": {}
      },
      "source": [
        "# Atualização de pesos\n",
        "def atualiza_pesos(parameters, grads, learning_rate):\n",
        "    \n",
        "    # Comprimento da estrutura de dados com os parâmetros (pesos e bias)\n",
        "    L = len(parameters)//2\n",
        "    \n",
        "    # Loop para atualização dos pesos\n",
        "    for l in range(L):\n",
        "        \n",
        "        # Atualização dos pesos\n",
        "        parameters[\"W\" + str(l + 1)] = parameters[\"W\" + str(l + 1)] - (learning_rate * grads[\"dW\" + str(l + 1)])\n",
        "        \n",
        "        # Atualização do bias\n",
        "        parameters[\"b\" + str(l + 1)] = parameters[\"b\" + str(l + 1)] - (learning_rate * grads[\"db\" + str(l + 1)])\n",
        "    \n",
        "    return parameters"
      ],
      "execution_count": null,
      "outputs": []
    },
    {
      "cell_type": "markdown",
      "metadata": {
        "id": "zckVpjPpNooZ",
        "colab_type": "text"
      },
      "source": [
        "#### Implementação da Rede"
      ]
    },
    {
      "cell_type": "code",
      "metadata": {
        "id": "3YFdCfFaNooa",
        "colab_type": "code",
        "colab": {}
      },
      "source": [
        "# Modelo completo da rede neural\n",
        "def modeloNN(X, Y, dims_camada_entrada, learning_rate = 0.01, num_iterations = 100):\n",
        "    #Vejam o tamanho do learning_rate. Comentei durante em aula que as taxas são realmente baixas.\n",
        "    \n",
        "    # Lista para receber o custo a cada epoch em train\n",
        "    custos = []\n",
        "    \n",
        "    # Inicializa parâmetros\n",
        "    parametros = inicializa_parametros(dims_camada_entrada)\n",
        "    \n",
        "    # Loop pelo número de iterações (epochs)\n",
        "    for i in range(num_iterations):\n",
        "        \n",
        "        # Forward Propagation\n",
        "        AL, caches = forward_propagation(X, parametros)\n",
        "        \n",
        "        # Calculo do custo\n",
        "        custo = calc_custo(AL, Y)\n",
        "        \n",
        "        # Backward Propagation\n",
        "        gradientes = backward_propagation(AL, Y, caches)\n",
        "        \n",
        "        # Atualização depesos\n",
        "        parametros = atualiza_pesos(parametros, gradientes, learning_rate)\n",
        "        \n",
        "        # Print do valor intermediário do custo, sendo que a redução do custo indica o aprendizado do modelo\n",
        "        if i % 10 == 0:\n",
        "            print(\"Custo Após \" + str(i) + \" iterações é \" + str(custo))\n",
        "            custos.append(custo)\n",
        "            \n",
        "    return parametros, custos "
      ],
      "execution_count": null,
      "outputs": []
    },
    {
      "cell_type": "code",
      "metadata": {
        "id": "i6efPwImNooe",
        "colab_type": "code",
        "colab": {}
      },
      "source": [
        "# Função para fazer as previsões\n",
        "\n",
        "def predict(X, parametros):\n",
        "    AL, caches = forward_propagation(X, parametros)\n",
        "    return AL\n",
        "\n",
        "# Notme que não há backpropagation, pois conforme as previsões surgem, os valores dos pesos mais aderentes acabam ficando conhecidos."
      ],
      "execution_count": null,
      "outputs": []
    },
    {
      "cell_type": "markdown",
      "metadata": {
        "id": "RnXUwD7_Nooi",
        "colab_type": "text"
      },
      "source": [
        "# Mais uma vez prevermos a saída relacionada a ter câncer ou não."
      ]
    },
    {
      "cell_type": "code",
      "metadata": {
        "id": "RUSr6846Nooi",
        "colab_type": "code",
        "colab": {
          "base_uri": "https://localhost:8080/",
          "height": 34
        },
        "outputId": "ffc55ac8-f19a-4105-f123-c830910ec6c3"
      },
      "source": [
        "#Para informações do dataset\n",
        "#Link: https://scikit-learn.org/stable/datasets/index.html#breast-cancer-dataset\n",
        "\n",
        "# Carregamos o conjunto\n",
        "cancer = load_breast_cancer()\n",
        "\n",
        "print(type(cancer))"
      ],
      "execution_count": null,
      "outputs": [
        {
          "output_type": "stream",
          "text": [
            "<class 'sklearn.utils.Bunch'>\n"
          ],
          "name": "stdout"
        }
      ]
    },
    {
      "cell_type": "code",
      "metadata": {
        "id": "0V7Kgan1Noom",
        "colab_type": "code",
        "colab": {}
      },
      "source": [
        "# Carregamos o dataset\n",
        "cancerDF = pd.DataFrame(columns = load_breast_cancer()[\"feature_names\"], data = load_breast_cancer()[\"data\"])"
      ],
      "execution_count": null,
      "outputs": []
    },
    {
      "cell_type": "code",
      "metadata": {
        "id": "gkZgGKRPNoow",
        "colab_type": "code",
        "colab": {
          "base_uri": "https://localhost:8080/",
          "height": 34
        },
        "outputId": "9d1d4447-f8e2-4ea2-84ee-5dcc23d85a22"
      },
      "source": [
        "cancerDF.shape"
      ],
      "execution_count": null,
      "outputs": [
        {
          "output_type": "execute_result",
          "data": {
            "text/plain": [
              "(569, 30)"
            ]
          },
          "metadata": {
            "tags": []
          },
          "execution_count": 20
        }
      ]
    },
    {
      "cell_type": "code",
      "metadata": {
        "id": "5UZwNDwANooz",
        "colab_type": "code",
        "colab": {
          "base_uri": "https://localhost:8080/",
          "height": 258
        },
        "outputId": "b2f351da-f403-4496-cbba-93a1ac1cedce"
      },
      "source": [
        "cancerDF.head()"
      ],
      "execution_count": null,
      "outputs": [
        {
          "output_type": "execute_result",
          "data": {
            "text/html": [
              "<div>\n",
              "<style scoped>\n",
              "    .dataframe tbody tr th:only-of-type {\n",
              "        vertical-align: middle;\n",
              "    }\n",
              "\n",
              "    .dataframe tbody tr th {\n",
              "        vertical-align: top;\n",
              "    }\n",
              "\n",
              "    .dataframe thead th {\n",
              "        text-align: right;\n",
              "    }\n",
              "</style>\n",
              "<table border=\"1\" class=\"dataframe\">\n",
              "  <thead>\n",
              "    <tr style=\"text-align: right;\">\n",
              "      <th></th>\n",
              "      <th>mean radius</th>\n",
              "      <th>mean texture</th>\n",
              "      <th>mean perimeter</th>\n",
              "      <th>mean area</th>\n",
              "      <th>mean smoothness</th>\n",
              "      <th>mean compactness</th>\n",
              "      <th>mean concavity</th>\n",
              "      <th>mean concave points</th>\n",
              "      <th>mean symmetry</th>\n",
              "      <th>mean fractal dimension</th>\n",
              "      <th>radius error</th>\n",
              "      <th>texture error</th>\n",
              "      <th>perimeter error</th>\n",
              "      <th>area error</th>\n",
              "      <th>smoothness error</th>\n",
              "      <th>compactness error</th>\n",
              "      <th>concavity error</th>\n",
              "      <th>concave points error</th>\n",
              "      <th>symmetry error</th>\n",
              "      <th>fractal dimension error</th>\n",
              "      <th>worst radius</th>\n",
              "      <th>worst texture</th>\n",
              "      <th>worst perimeter</th>\n",
              "      <th>worst area</th>\n",
              "      <th>worst smoothness</th>\n",
              "      <th>worst compactness</th>\n",
              "      <th>worst concavity</th>\n",
              "      <th>worst concave points</th>\n",
              "      <th>worst symmetry</th>\n",
              "      <th>worst fractal dimension</th>\n",
              "    </tr>\n",
              "  </thead>\n",
              "  <tbody>\n",
              "    <tr>\n",
              "      <th>0</th>\n",
              "      <td>17.99</td>\n",
              "      <td>10.38</td>\n",
              "      <td>122.80</td>\n",
              "      <td>1001.0</td>\n",
              "      <td>0.11840</td>\n",
              "      <td>0.27760</td>\n",
              "      <td>0.3001</td>\n",
              "      <td>0.14710</td>\n",
              "      <td>0.2419</td>\n",
              "      <td>0.07871</td>\n",
              "      <td>1.0950</td>\n",
              "      <td>0.9053</td>\n",
              "      <td>8.589</td>\n",
              "      <td>153.40</td>\n",
              "      <td>0.006399</td>\n",
              "      <td>0.04904</td>\n",
              "      <td>0.05373</td>\n",
              "      <td>0.01587</td>\n",
              "      <td>0.03003</td>\n",
              "      <td>0.006193</td>\n",
              "      <td>25.38</td>\n",
              "      <td>17.33</td>\n",
              "      <td>184.60</td>\n",
              "      <td>2019.0</td>\n",
              "      <td>0.1622</td>\n",
              "      <td>0.6656</td>\n",
              "      <td>0.7119</td>\n",
              "      <td>0.2654</td>\n",
              "      <td>0.4601</td>\n",
              "      <td>0.11890</td>\n",
              "    </tr>\n",
              "    <tr>\n",
              "      <th>1</th>\n",
              "      <td>20.57</td>\n",
              "      <td>17.77</td>\n",
              "      <td>132.90</td>\n",
              "      <td>1326.0</td>\n",
              "      <td>0.08474</td>\n",
              "      <td>0.07864</td>\n",
              "      <td>0.0869</td>\n",
              "      <td>0.07017</td>\n",
              "      <td>0.1812</td>\n",
              "      <td>0.05667</td>\n",
              "      <td>0.5435</td>\n",
              "      <td>0.7339</td>\n",
              "      <td>3.398</td>\n",
              "      <td>74.08</td>\n",
              "      <td>0.005225</td>\n",
              "      <td>0.01308</td>\n",
              "      <td>0.01860</td>\n",
              "      <td>0.01340</td>\n",
              "      <td>0.01389</td>\n",
              "      <td>0.003532</td>\n",
              "      <td>24.99</td>\n",
              "      <td>23.41</td>\n",
              "      <td>158.80</td>\n",
              "      <td>1956.0</td>\n",
              "      <td>0.1238</td>\n",
              "      <td>0.1866</td>\n",
              "      <td>0.2416</td>\n",
              "      <td>0.1860</td>\n",
              "      <td>0.2750</td>\n",
              "      <td>0.08902</td>\n",
              "    </tr>\n",
              "    <tr>\n",
              "      <th>2</th>\n",
              "      <td>19.69</td>\n",
              "      <td>21.25</td>\n",
              "      <td>130.00</td>\n",
              "      <td>1203.0</td>\n",
              "      <td>0.10960</td>\n",
              "      <td>0.15990</td>\n",
              "      <td>0.1974</td>\n",
              "      <td>0.12790</td>\n",
              "      <td>0.2069</td>\n",
              "      <td>0.05999</td>\n",
              "      <td>0.7456</td>\n",
              "      <td>0.7869</td>\n",
              "      <td>4.585</td>\n",
              "      <td>94.03</td>\n",
              "      <td>0.006150</td>\n",
              "      <td>0.04006</td>\n",
              "      <td>0.03832</td>\n",
              "      <td>0.02058</td>\n",
              "      <td>0.02250</td>\n",
              "      <td>0.004571</td>\n",
              "      <td>23.57</td>\n",
              "      <td>25.53</td>\n",
              "      <td>152.50</td>\n",
              "      <td>1709.0</td>\n",
              "      <td>0.1444</td>\n",
              "      <td>0.4245</td>\n",
              "      <td>0.4504</td>\n",
              "      <td>0.2430</td>\n",
              "      <td>0.3613</td>\n",
              "      <td>0.08758</td>\n",
              "    </tr>\n",
              "    <tr>\n",
              "      <th>3</th>\n",
              "      <td>11.42</td>\n",
              "      <td>20.38</td>\n",
              "      <td>77.58</td>\n",
              "      <td>386.1</td>\n",
              "      <td>0.14250</td>\n",
              "      <td>0.28390</td>\n",
              "      <td>0.2414</td>\n",
              "      <td>0.10520</td>\n",
              "      <td>0.2597</td>\n",
              "      <td>0.09744</td>\n",
              "      <td>0.4956</td>\n",
              "      <td>1.1560</td>\n",
              "      <td>3.445</td>\n",
              "      <td>27.23</td>\n",
              "      <td>0.009110</td>\n",
              "      <td>0.07458</td>\n",
              "      <td>0.05661</td>\n",
              "      <td>0.01867</td>\n",
              "      <td>0.05963</td>\n",
              "      <td>0.009208</td>\n",
              "      <td>14.91</td>\n",
              "      <td>26.50</td>\n",
              "      <td>98.87</td>\n",
              "      <td>567.7</td>\n",
              "      <td>0.2098</td>\n",
              "      <td>0.8663</td>\n",
              "      <td>0.6869</td>\n",
              "      <td>0.2575</td>\n",
              "      <td>0.6638</td>\n",
              "      <td>0.17300</td>\n",
              "    </tr>\n",
              "    <tr>\n",
              "      <th>4</th>\n",
              "      <td>20.29</td>\n",
              "      <td>14.34</td>\n",
              "      <td>135.10</td>\n",
              "      <td>1297.0</td>\n",
              "      <td>0.10030</td>\n",
              "      <td>0.13280</td>\n",
              "      <td>0.1980</td>\n",
              "      <td>0.10430</td>\n",
              "      <td>0.1809</td>\n",
              "      <td>0.05883</td>\n",
              "      <td>0.7572</td>\n",
              "      <td>0.7813</td>\n",
              "      <td>5.438</td>\n",
              "      <td>94.44</td>\n",
              "      <td>0.011490</td>\n",
              "      <td>0.02461</td>\n",
              "      <td>0.05688</td>\n",
              "      <td>0.01885</td>\n",
              "      <td>0.01756</td>\n",
              "      <td>0.005115</td>\n",
              "      <td>22.54</td>\n",
              "      <td>16.67</td>\n",
              "      <td>152.20</td>\n",
              "      <td>1575.0</td>\n",
              "      <td>0.1374</td>\n",
              "      <td>0.2050</td>\n",
              "      <td>0.4000</td>\n",
              "      <td>0.1625</td>\n",
              "      <td>0.2364</td>\n",
              "      <td>0.07678</td>\n",
              "    </tr>\n",
              "  </tbody>\n",
              "</table>\n",
              "</div>"
            ],
            "text/plain": [
              "   mean radius  mean texture  ...  worst symmetry  worst fractal dimension\n",
              "0        17.99         10.38  ...          0.4601                  0.11890\n",
              "1        20.57         17.77  ...          0.2750                  0.08902\n",
              "2        19.69         21.25  ...          0.3613                  0.08758\n",
              "3        11.42         20.38  ...          0.6638                  0.17300\n",
              "4        20.29         14.34  ...          0.2364                  0.07678\n",
              "\n",
              "[5 rows x 30 columns]"
            ]
          },
          "metadata": {
            "tags": []
          },
          "execution_count": 21
        }
      ]
    },
    {
      "cell_type": "code",
      "metadata": {
        "id": "AxHsL11kNoo3",
        "colab_type": "code",
        "colab": {}
      },
      "source": [
        "# Identificamos e separamos nosso target\n",
        "target = load_breast_cancer()[\"target\"]"
      ],
      "execution_count": null,
      "outputs": []
    },
    {
      "cell_type": "code",
      "metadata": {
        "id": "_ShS1wRaNoo6",
        "colab_type": "code",
        "colab": {
          "base_uri": "https://localhost:8080/",
          "height": 34
        },
        "outputId": "f0887b5d-986e-422b-8b52-d7f861f5fac5"
      },
      "source": [
        "type(target)"
      ],
      "execution_count": null,
      "outputs": [
        {
          "output_type": "execute_result",
          "data": {
            "text/plain": [
              "numpy.ndarray"
            ]
          },
          "metadata": {
            "tags": []
          },
          "execution_count": 23
        }
      ]
    },
    {
      "cell_type": "code",
      "metadata": {
        "id": "3pXb9S3WNoo9",
        "colab_type": "code",
        "colab": {
          "base_uri": "https://localhost:8080/",
          "height": 459
        },
        "outputId": "f17699fa-2090-4b91-89b0-4a214f741813"
      },
      "source": [
        "# Então esperamos um array entre 0 e 1.\n",
        "target"
      ],
      "execution_count": null,
      "outputs": [
        {
          "output_type": "execute_result",
          "data": {
            "text/plain": [
              "array([0, 0, 0, 0, 0, 0, 0, 0, 0, 0, 0, 0, 0, 0, 0, 0, 0, 0, 0, 1, 1, 1,\n",
              "       0, 0, 0, 0, 0, 0, 0, 0, 0, 0, 0, 0, 0, 0, 0, 1, 0, 0, 0, 0, 0, 0,\n",
              "       0, 0, 1, 0, 1, 1, 1, 1, 1, 0, 0, 1, 0, 0, 1, 1, 1, 1, 0, 1, 0, 0,\n",
              "       1, 1, 1, 1, 0, 1, 0, 0, 1, 0, 1, 0, 0, 1, 1, 1, 0, 0, 1, 0, 0, 0,\n",
              "       1, 1, 1, 0, 1, 1, 0, 0, 1, 1, 1, 0, 0, 1, 1, 1, 1, 0, 1, 1, 0, 1,\n",
              "       1, 1, 1, 1, 1, 1, 1, 0, 0, 0, 1, 0, 0, 1, 1, 1, 0, 0, 1, 0, 1, 0,\n",
              "       0, 1, 0, 0, 1, 1, 0, 1, 1, 0, 1, 1, 1, 1, 0, 1, 1, 1, 1, 1, 1, 1,\n",
              "       1, 1, 0, 1, 1, 1, 1, 0, 0, 1, 0, 1, 1, 0, 0, 1, 1, 0, 0, 1, 1, 1,\n",
              "       1, 0, 1, 1, 0, 0, 0, 1, 0, 1, 0, 1, 1, 1, 0, 1, 1, 0, 0, 1, 0, 0,\n",
              "       0, 0, 1, 0, 0, 0, 1, 0, 1, 0, 1, 1, 0, 1, 0, 0, 0, 0, 1, 1, 0, 0,\n",
              "       1, 1, 1, 0, 1, 1, 1, 1, 1, 0, 0, 1, 1, 0, 1, 1, 0, 0, 1, 0, 1, 1,\n",
              "       1, 1, 0, 1, 1, 1, 1, 1, 0, 1, 0, 0, 0, 0, 0, 0, 0, 0, 0, 0, 0, 0,\n",
              "       0, 0, 1, 1, 1, 1, 1, 1, 0, 1, 0, 1, 1, 0, 1, 1, 0, 1, 0, 0, 1, 1,\n",
              "       1, 1, 1, 1, 1, 1, 1, 1, 1, 1, 1, 0, 1, 1, 0, 1, 0, 1, 1, 1, 1, 1,\n",
              "       1, 1, 1, 1, 1, 1, 1, 1, 1, 0, 1, 1, 1, 0, 1, 0, 1, 1, 1, 1, 0, 0,\n",
              "       0, 1, 1, 1, 1, 0, 1, 0, 1, 0, 1, 1, 1, 0, 1, 1, 1, 1, 1, 1, 1, 0,\n",
              "       0, 0, 1, 1, 1, 1, 1, 1, 1, 1, 1, 1, 1, 0, 0, 1, 0, 0, 0, 1, 0, 0,\n",
              "       1, 1, 1, 1, 1, 0, 1, 1, 1, 1, 1, 0, 1, 1, 1, 0, 1, 1, 0, 0, 1, 1,\n",
              "       1, 1, 1, 1, 0, 1, 1, 1, 1, 1, 1, 1, 0, 1, 1, 1, 1, 1, 0, 1, 1, 0,\n",
              "       1, 1, 1, 1, 1, 1, 1, 1, 1, 1, 1, 1, 0, 1, 0, 0, 1, 0, 1, 1, 1, 1,\n",
              "       1, 0, 1, 1, 0, 1, 0, 1, 1, 0, 1, 0, 1, 1, 1, 1, 1, 1, 1, 1, 0, 0,\n",
              "       1, 1, 1, 1, 1, 1, 0, 1, 1, 1, 1, 1, 1, 1, 1, 1, 1, 0, 1, 1, 1, 1,\n",
              "       1, 1, 1, 0, 1, 0, 1, 1, 0, 1, 1, 1, 1, 1, 0, 0, 1, 0, 1, 0, 1, 1,\n",
              "       1, 1, 1, 0, 1, 1, 0, 1, 0, 1, 0, 0, 1, 1, 1, 0, 1, 1, 1, 1, 1, 1,\n",
              "       1, 1, 1, 1, 1, 0, 1, 0, 0, 1, 1, 1, 1, 1, 1, 1, 1, 1, 1, 1, 1, 1,\n",
              "       1, 1, 1, 1, 1, 1, 1, 1, 1, 1, 1, 1, 0, 0, 0, 0, 0, 0, 1])"
            ]
          },
          "metadata": {
            "tags": []
          },
          "execution_count": 24
        }
      ]
    },
    {
      "cell_type": "code",
      "metadata": {
        "id": "NsCDBBIuNopC",
        "colab_type": "code",
        "colab": {
          "base_uri": "https://localhost:8080/",
          "height": 68
        },
        "outputId": "1ce93b5d-5393-46ec-b215-93137c4a68d4"
      },
      "source": [
        "print(\"Total da Classe do tipo Benigno: \",np.count_nonzero(target == 1))\n",
        "print(\"=\"*15)\n",
        "print(\"Total da Classe do tipo Maligno: \",np.count_nonzero(target == 0))"
      ],
      "execution_count": null,
      "outputs": [
        {
          "output_type": "stream",
          "text": [
            "Total da Classe do tipo Benigno:  357\n",
            "===============\n",
            "Total da Classe do tipo Maligno:  212\n"
          ],
          "name": "stdout"
        }
      ]
    },
    {
      "cell_type": "code",
      "metadata": {
        "id": "0GCCYtJQNopI",
        "colab_type": "code",
        "colab": {}
      },
      "source": [
        "# Dicionário para os labels\n",
        "labels = {}\n",
        "\n",
        "# Nomes das classes da variável target\n",
        "target_names = load_breast_cancer()[\"target_names\"]\n",
        "\n",
        "# Mapeamento\n",
        "for i in range(len(target_names)):\n",
        "    labels.update({i:target_names[i]})  "
      ],
      "execution_count": null,
      "outputs": []
    },
    {
      "cell_type": "code",
      "metadata": {
        "id": "NjDWuhX4NopM",
        "colab_type": "code",
        "colab": {
          "base_uri": "https://localhost:8080/",
          "height": 34
        },
        "outputId": "780ab79c-6ed1-4cdf-9ee6-d31da7fa8524"
      },
      "source": [
        "# Labels - Lembrete: Sempre trabalhamos com números.\n",
        "labels"
      ],
      "execution_count": null,
      "outputs": [
        {
          "output_type": "execute_result",
          "data": {
            "text/plain": [
              "{0: 'malignant', 1: 'benign'}"
            ]
          },
          "metadata": {
            "tags": []
          },
          "execution_count": 30
        }
      ]
    },
    {
      "cell_type": "code",
      "metadata": {
        "id": "Zbbi_WclNopQ",
        "colab_type": "code",
        "colab": {}
      },
      "source": [
        "# Entregamos as variáveis preditoras para X\n",
        "X = np.array(cancerDF)"
      ],
      "execution_count": null,
      "outputs": []
    },
    {
      "cell_type": "code",
      "metadata": {
        "id": "DiMolEkXNopT",
        "colab_type": "code",
        "colab": {}
      },
      "source": [
        "# Divisão de dados de entrada e saída em treino e teste\n",
        "X_treino, X_teste, y_treino, y_teste = train_test_split(X, target, test_size = 0.20, shuffle = True)"
      ],
      "execution_count": null,
      "outputs": []
    },
    {
      "cell_type": "code",
      "metadata": {
        "id": "raHRXk3xNopa",
        "colab_type": "code",
        "colab": {
          "base_uri": "https://localhost:8080/",
          "height": 136
        },
        "outputId": "9e712652-165d-4916-8e1f-4eaebc4976b5"
      },
      "source": [
        "# Verificação de estado dos nossos dados X,y (Treino)\n",
        "print(\"Dados de Treino\")\n",
        "print(X_treino.shape)\n",
        "print(y_treino.shape)\n",
        "print(\"=\"*20)\n",
        "print(\"Dados de Teste\")\n",
        "# Verificação de estado dos nossos dados X,y (Teste)\n",
        "print(X_teste.shape)\n",
        "print(y_teste.shape)"
      ],
      "execution_count": null,
      "outputs": [
        {
          "output_type": "stream",
          "text": [
            "Dados de Treino\n",
            "(455, 30)\n",
            "(455,)\n",
            "====================\n",
            "Dados de Teste\n",
            "(114, 30)\n",
            "(114,)\n"
          ],
          "name": "stdout"
        }
      ]
    },
    {
      "cell_type": "code",
      "metadata": {
        "id": "v0XG-z4gNopf",
        "colab_type": "code",
        "colab": {}
      },
      "source": [
        "# Ajuste nos dados de entrada\n",
        "X_treino = X_treino.T\n",
        "X_teste = X_teste.T\n",
        "\n",
        "# Ajuste nos dados de saída\n",
        "y_treino = y_treino.reshape(1, len(y_treino))\n",
        "y_teste = y_teste.reshape(1, len(y_teste))"
      ],
      "execution_count": null,
      "outputs": []
    },
    {
      "cell_type": "code",
      "metadata": {
        "id": "JVUmRzYQNoph",
        "colab_type": "code",
        "colab": {}
      },
      "source": [
        "# Dimensões de entrada com número de neurônios \n",
        "dims_camada_entrada = [X_treino.shape[0], 50, 20, 5, 1]"
      ],
      "execution_count": null,
      "outputs": []
    },
    {
      "cell_type": "code",
      "metadata": {
        "id": "ieOUaZiSNopn",
        "colab_type": "code",
        "colab": {
          "base_uri": "https://localhost:8080/",
          "height": 1000
        },
        "outputId": "7c7ecccd-b42e-4795-930a-40b9c3fcaea0"
      },
      "source": [
        "# Treinando o modelo\n",
        "\n",
        "iniProc = time.time()\n",
        "parametros, custo = modeloNN(X = X_treino, \n",
        "                             Y = y_treino, \n",
        "                             dims_camada_entrada = dims_camada_entrada, num_iterations = 3000, learning_rate = 0.0075)\n",
        "\n",
        "print(\"Treinamento durou %2.f segundos \" % (time.time() - iniProc))"
      ],
      "execution_count": null,
      "outputs": [
        {
          "output_type": "stream",
          "text": [
            "Custo Após 0 iterações é 0.693141785022814\n",
            "Custo Após 10 iterações é 0.692122551572999\n",
            "Custo Após 20 iterações é 0.6911408219892857\n",
            "Custo Após 30 iterações é 0.6901952105433395\n",
            "Custo Após 40 iterações é 0.6892843801169861\n",
            "Custo Após 50 iterações é 0.6884070425650788\n",
            "Custo Após 60 iterações é 0.6875619566696122\n",
            "Custo Após 70 iterações é 0.6867479249150882\n",
            "Custo Após 80 iterações é 0.6859637937057317\n",
            "Custo Após 90 iterações é 0.6852084503114492\n",
            "Custo Após 100 iterações é 0.6844808241089058\n",
            "Custo Após 110 iterações é 0.6837798825555318\n",
            "Custo Após 120 iterações é 0.6831046318707765\n",
            "Custo Após 130 iterações é 0.6824541134952594\n",
            "Custo Após 140 iterações é 0.6818274035431796\n",
            "Custo Após 150 iterações é 0.6812236124401857\n",
            "Custo Após 160 iterações é 0.680641882699577\n",
            "Custo Após 170 iterações é 0.6800813878800794\n",
            "Custo Após 180 iterações é 0.6795413327604377\n",
            "Custo Após 190 iterações é 0.6790209492882299\n",
            "Custo Após 200 iterações é 0.6785194977646223\n",
            "Custo Após 210 iterações é 0.6780362656454236\n",
            "Custo Após 220 iterações é 0.677570565015455\n",
            "Custo Após 230 iterações é 0.6771217343743455\n",
            "Custo Após 240 iterações é 0.6766891332566898\n",
            "Custo Após 250 iterações é 0.6762721452884295\n",
            "Custo Após 260 iterações é 0.6758701765983957\n",
            "Custo Após 270 iterações é 0.6754826520326656\n",
            "Custo Após 280 iterações é 0.6751090159392079\n",
            "Custo Após 290 iterações é 0.674748732702892\n",
            "Custo Após 300 iterações é 0.6744012831630094\n",
            "Custo Após 310 iterações é 0.6740661654597078\n",
            "Custo Após 320 iterações é 0.6737428948465441\n",
            "Custo Após 330 iterações é 0.67343100128222\n",
            "Custo Após 340 iterações é 0.6731300272767616\n",
            "Custo Após 350 iterações é 0.6728395295850522\n",
            "Custo Após 360 iterações é 0.672559076290133\n",
            "Custo Após 370 iterações é 0.6722882447037218\n",
            "Custo Após 380 iterações é 0.6720266242146079\n",
            "Custo Após 390 iterações é 0.6717738115738474\n",
            "Custo Após 400 iterações é 0.6715294101107919\n",
            "Custo Após 410 iterações é 0.6712930295499524\n",
            "Custo Após 420 iterações é 0.6710642791282196\n",
            "Custo Após 430 iterações é 0.6708427754763349\n",
            "Custo Após 440 iterações é 0.6706281334955793\n",
            "Custo Após 450 iterações é 0.6704199631462949\n",
            "Custo Após 460 iterações é 0.6702178687196414\n",
            "Custo Após 470 iterações é 0.6700214447662319\n",
            "Custo Após 480 iterações é 0.6698302705543555\n",
            "Custo Após 490 iterações é 0.6696439080537283\n",
            "Custo Após 500 iterações é 0.6694618896297685\n",
            "Custo Após 510 iterações é 0.6692837149143426\n",
            "Custo Após 520 iterações é 0.6691088357903892\n",
            "Custo Após 530 iterações é 0.6689366500207019\n",
            "Custo Após 540 iterações é 0.6687664801936577\n",
            "Custo Após 550 iterações é 0.6685975425485321\n",
            "Custo Após 560 iterações é 0.6684289403100833\n",
            "Custo Após 570 iterações é 0.6682595984310348\n",
            "Custo Após 580 iterações é 0.6680882276995885\n",
            "Custo Após 590 iterações é 0.667913257168855\n",
            "Custo Após 600 iterações é 0.6677327092979572\n",
            "Custo Após 610 iterações é 0.667544078789339\n",
            "Custo Após 620 iterações é 0.6673440563795476\n",
            "Custo Após 630 iterações é 0.6671282321605162\n",
            "Custo Após 640 iterações é 0.6668907429385136\n",
            "Custo Após 650 iterações é 0.6666239980543278\n",
            "Custo Após 660 iterações é 0.6663177777112353\n",
            "Custo Após 670 iterações é 0.6659574433408337\n",
            "Custo Após 680 iterações é 0.6655197453313054\n",
            "Custo Após 690 iterações é 0.6649647493800023\n",
            "Custo Após 700 iterações é 0.6642270891152608\n",
            "Custo Após 710 iterações é 0.6632219879135302\n",
            "Custo Após 720 iterações é 0.6617927355724292\n",
            "Custo Após 730 iterações é 0.6596692972425763\n",
            "Custo Após 740 iterações é 0.6563302511086666\n",
            "Custo Após 750 iterações é 0.6508321152028809\n",
            "Custo Após 760 iterações é 0.6417391763685298\n",
            "Custo Após 770 iterações é 0.6286415352915525\n",
            "Custo Após 780 iterações é 0.616588495909508\n",
            "Custo Após 790 iterações é 0.6106757263746878\n",
            "Custo Após 800 iterações é 0.6076110546734603\n",
            "Custo Após 810 iterações é 0.6049447503776864\n",
            "Custo Após 820 iterações é 0.6022917461045367\n",
            "Custo Após 830 iterações é 0.5996154787439879\n",
            "Custo Após 840 iterações é 0.596907035145542\n",
            "Custo Após 850 iterações é 0.5941587250296334\n",
            "Custo Após 860 iterações é 0.5913615872851338\n",
            "Custo Após 870 iterações é 0.5885048874881477\n",
            "Custo Após 880 iterações é 0.5855746166593705\n",
            "Custo Após 890 iterações é 0.5825532685057809\n",
            "Custo Após 900 iterações é 0.5794195658361377\n",
            "Custo Após 910 iterações é 0.5761450479865868\n",
            "Custo Após 920 iterações é 0.5726927607271949\n",
            "Custo Após 930 iterações é 0.5690135519999782\n",
            "Custo Após 940 iterações é 0.5650385579804401\n",
            "Custo Após 950 iterações é 0.5606742968772058\n",
            "Custo Após 960 iterações é 0.5557921683557077\n",
            "Custo Após 970 iterações é 0.5502068101260349\n",
            "Custo Após 980 iterações é 0.5436516389842514\n",
            "Custo Após 990 iterações é 0.5357442576299463\n",
            "Custo Após 1000 iterações é 0.5259579446233899\n",
            "Custo Após 1010 iterações é 0.5136418161213764\n",
            "Custo Após 1020 iterações é 0.49822050445876737\n",
            "Custo Após 1030 iterações é 0.47921161587125255\n",
            "Custo Após 1040 iterações é 0.45741581022159394\n",
            "Custo Após 1050 iterações é 0.43626887694373684\n",
            "Custo Após 1060 iterações é 0.5104735572372636\n",
            "Custo Após 1070 iterações é 0.47216087568570875\n",
            "Custo Após 1080 iterações é 0.458709961775434\n",
            "Custo Após 1090 iterações é 0.4526849332001874\n",
            "Custo Após 1100 iterações é 0.44775245193466257\n",
            "Custo Após 1110 iterações é 0.44387083633707713\n",
            "Custo Após 1120 iterações é 0.4420207855215237\n",
            "Custo Após 1130 iterações é 0.43773198610901326\n",
            "Custo Após 1140 iterações é 0.4340285770749259\n",
            "Custo Após 1150 iterações é 0.42880656347618307\n",
            "Custo Após 1160 iterações é 0.4250292345909784\n",
            "Custo Após 1170 iterações é 0.41730585834748474\n",
            "Custo Após 1180 iterações é 0.4122212486911723\n",
            "Custo Após 1190 iterações é 0.40820316166708387\n",
            "Custo Após 1200 iterações é 0.40082370456314664\n",
            "Custo Após 1210 iterações é 0.3965284710428445\n",
            "Custo Após 1220 iterações é 0.39136462563028984\n",
            "Custo Após 1230 iterações é 0.38736731363575544\n",
            "Custo Após 1240 iterações é 0.38518412840448935\n",
            "Custo Após 1250 iterações é 0.382479475016358\n",
            "Custo Após 1260 iterações é 0.3724323264489399\n",
            "Custo Após 1270 iterações é 0.3723554100165645\n",
            "Custo Após 1280 iterações é 0.3704015234310034\n",
            "Custo Após 1290 iterações é 0.3667376739242648\n",
            "Custo Após 1300 iterações é 0.36561775544672154\n",
            "Custo Após 1310 iterações é 0.3626626232420866\n",
            "Custo Após 1320 iterações é 0.36060432908139145\n",
            "Custo Após 1330 iterações é 0.3593186545102164\n",
            "Custo Após 1340 iterações é 0.355740506636287\n",
            "Custo Após 1350 iterações é 0.3544853020628026\n",
            "Custo Após 1360 iterações é 0.3533953386856168\n",
            "Custo Após 1370 iterações é 0.34533345783572167\n",
            "Custo Após 1380 iterações é 0.3445939725085289\n",
            "Custo Após 1390 iterações é 0.34172348714553136\n",
            "Custo Após 1400 iterações é 0.3401221099613112\n",
            "Custo Após 1410 iterações é 0.33798066178303593\n",
            "Custo Após 1420 iterações é 0.3387859658205756\n",
            "Custo Após 1430 iterações é 0.3373382761952381\n",
            "Custo Após 1440 iterações é 0.33511131917927495\n",
            "Custo Após 1450 iterações é 0.33431464366765595\n",
            "Custo Após 1460 iterações é 0.332654155562026\n",
            "Custo Após 1470 iterações é 0.33050285125625095\n",
            "Custo Após 1480 iterações é 0.3286440767928187\n",
            "Custo Após 1490 iterações é 0.32630939536160936\n",
            "Custo Após 1500 iterações é 0.3328542878458225\n",
            "Custo Após 1510 iterações é 0.32485209747526644\n",
            "Custo Após 1520 iterações é 0.32491721173805804\n",
            "Custo Após 1530 iterações é 0.3197261226762812\n",
            "Custo Após 1540 iterações é 0.3219568552914085\n",
            "Custo Após 1550 iterações é 0.31825926591102527\n",
            "Custo Após 1560 iterações é 0.3191444213919935\n",
            "Custo Após 1570 iterações é 0.31502905956584026\n",
            "Custo Após 1580 iterações é 0.31513144402756416\n",
            "Custo Após 1590 iterações é 0.312363528136615\n",
            "Custo Após 1600 iterações é 0.3099690122901173\n",
            "Custo Após 1610 iterações é 0.2979120259113014\n",
            "Custo Após 1620 iterações é 0.29686923309549373\n",
            "Custo Após 1630 iterações é 0.29476039707664037\n",
            "Custo Após 1640 iterações é 0.2955778851046675\n",
            "Custo Após 1650 iterações é 0.2947544313093025\n",
            "Custo Após 1660 iterações é 0.2945136480438082\n",
            "Custo Após 1670 iterações é 0.2942249690843014\n",
            "Custo Após 1680 iterações é 0.29519591741277823\n",
            "Custo Após 1690 iterações é 0.29359384269600725\n",
            "Custo Após 1700 iterações é 0.295024795839111\n",
            "Custo Após 1710 iterações é 0.29404709208055513\n",
            "Custo Após 1720 iterações é 0.3014044348386117\n",
            "Custo Após 1730 iterações é 0.2999791178566061\n",
            "Custo Após 1740 iterações é 0.2960646110904406\n",
            "Custo Após 1750 iterações é 0.29717464175850516\n",
            "Custo Após 1760 iterações é 0.2919816774569225\n",
            "Custo Após 1770 iterações é 0.29185098459227493\n",
            "Custo Após 1780 iterações é 0.2908747965227977\n",
            "Custo Após 1790 iterações é 0.29445150622300176\n",
            "Custo Após 1800 iterações é 0.2922636569198494\n",
            "Custo Após 1810 iterações é 0.2929282841460164\n",
            "Custo Após 1820 iterações é 0.28712024400625713\n",
            "Custo Após 1830 iterações é 0.2755714695883083\n",
            "Custo Após 1840 iterações é 0.27607558255593045\n",
            "Custo Após 1850 iterações é 0.27429402194471614\n",
            "Custo Após 1860 iterações é 0.27461383323916905\n",
            "Custo Após 1870 iterações é 0.2744646807831296\n",
            "Custo Após 1880 iterações é 0.27339224144061297\n",
            "Custo Após 1890 iterações é 0.27385390111443625\n",
            "Custo Após 1900 iterações é 0.27159234727975323\n",
            "Custo Após 1910 iterações é 0.2710841635124105\n",
            "Custo Após 1920 iterações é 0.27148269092146243\n",
            "Custo Após 1930 iterações é 0.270867494327291\n",
            "Custo Após 1940 iterações é 0.2728393741993903\n",
            "Custo Após 1950 iterações é 0.27216100148443817\n",
            "Custo Após 1960 iterações é 0.26887789205857016\n",
            "Custo Após 1970 iterações é 0.2645390588750962\n",
            "Custo Após 1980 iterações é 0.26281126306214153\n",
            "Custo Após 1990 iterações é 0.262756602278847\n",
            "Custo Após 2000 iterações é 0.26211139925208843\n",
            "Custo Após 2010 iterações é 0.26152746553509676\n",
            "Custo Após 2020 iterações é 0.26092986273267577\n",
            "Custo Após 2030 iterações é 0.26036565611052026\n",
            "Custo Após 2040 iterações é 0.25974337865242175\n",
            "Custo Após 2050 iterações é 0.25979779493069044\n",
            "Custo Após 2060 iterações é 0.25951282329195213\n",
            "Custo Após 2070 iterações é 0.2586869846132044\n",
            "Custo Após 2080 iterações é 0.2577032321659582\n",
            "Custo Após 2090 iterações é 0.25768489155852475\n",
            "Custo Após 2100 iterações é 0.2570741765383317\n",
            "Custo Após 2110 iterações é 0.25646201575610206\n",
            "Custo Após 2120 iterações é 0.25622343661773206\n",
            "Custo Após 2130 iterações é 0.2556501002711594\n",
            "Custo Após 2140 iterações é 0.25531124257767174\n",
            "Custo Após 2150 iterações é 0.2547278950129085\n",
            "Custo Após 2160 iterações é 0.25438699464791076\n",
            "Custo Após 2170 iterações é 0.2540220513918931\n",
            "Custo Após 2180 iterações é 0.2549969461876349\n",
            "Custo Após 2190 iterações é 0.2662724623545975\n",
            "Custo Após 2200 iterações é 0.26926520793788533\n",
            "Custo Após 2210 iterações é 0.2630888258539439\n",
            "Custo Após 2220 iterações é 0.26010712656284934\n",
            "Custo Após 2230 iterações é 0.25948790039507497\n",
            "Custo Após 2240 iterações é 0.257589879788454\n",
            "Custo Após 2250 iterações é 0.2526796228302941\n",
            "Custo Após 2260 iterações é 0.25103844725454383\n",
            "Custo Após 2270 iterações é 0.25026320858719264\n",
            "Custo Após 2280 iterações é 0.2497216751519603\n",
            "Custo Após 2290 iterações é 0.2493752687821941\n",
            "Custo Após 2300 iterações é 0.24895303596970556\n",
            "Custo Após 2310 iterações é 0.24848995125000353\n",
            "Custo Após 2320 iterações é 0.24782412760192668\n",
            "Custo Após 2330 iterações é 0.24724359416117042\n",
            "Custo Após 2340 iterações é 0.24663053514217173\n",
            "Custo Após 2350 iterações é 0.24885603360042158\n",
            "Custo Após 2360 iterações é 0.24604953502647078\n",
            "Custo Após 2370 iterações é 0.24615746918717443\n",
            "Custo Após 2380 iterações é 0.24840405131187326\n",
            "Custo Após 2390 iterações é 0.24466144317778596\n",
            "Custo Após 2400 iterações é 0.24527035386696117\n",
            "Custo Após 2410 iterações é 0.24473163539421666\n",
            "Custo Após 2420 iterações é 0.2446871685341748\n",
            "Custo Após 2430 iterações é 0.24474135944526576\n",
            "Custo Após 2440 iterações é 0.2436092064086276\n",
            "Custo Após 2450 iterações é 0.24344691820763595\n",
            "Custo Após 2460 iterações é 0.24335597577350246\n",
            "Custo Após 2470 iterações é 0.24269750048656172\n",
            "Custo Após 2480 iterações é 0.2429031193442424\n",
            "Custo Após 2490 iterações é 0.24212837814048366\n",
            "Custo Após 2500 iterações é 0.24152610340165573\n",
            "Custo Após 2510 iterações é 0.24151222921547824\n",
            "Custo Após 2520 iterações é 0.24086585192955967\n",
            "Custo Após 2530 iterações é 0.24067301491591736\n",
            "Custo Após 2540 iterações é 0.24063406889395403\n",
            "Custo Após 2550 iterações é 0.24078768638527492\n",
            "Custo Após 2560 iterações é 0.2409759215353894\n",
            "Custo Após 2570 iterações é 0.24013358746063004\n",
            "Custo Após 2580 iterações é 0.23738962250925066\n",
            "Custo Após 2590 iterações é 0.24117781878623124\n",
            "Custo Após 2600 iterações é 0.23955212395742176\n",
            "Custo Após 2610 iterações é 0.2374557638572232\n",
            "Custo Após 2620 iterações é 0.2375025902541017\n",
            "Custo Após 2630 iterações é 0.23979326234520432\n",
            "Custo Após 2640 iterações é 0.23935381044443868\n",
            "Custo Após 2650 iterações é 0.23598970335721442\n",
            "Custo Após 2660 iterações é 0.23566428437806272\n",
            "Custo Após 2670 iterações é 0.23968882861224539\n",
            "Custo Após 2680 iterações é 0.23737378021144337\n",
            "Custo Após 2690 iterações é 0.23409057033240857\n",
            "Custo Após 2700 iterações é 0.237784226015865\n",
            "Custo Após 2710 iterações é 0.23756903235585378\n",
            "Custo Após 2720 iterações é 0.23332351493522233\n",
            "Custo Após 2730 iterações é 0.23496742556911582\n",
            "Custo Após 2740 iterações é 0.23530603619269377\n",
            "Custo Após 2750 iterações é 0.2320123649735581\n",
            "Custo Após 2760 iterações é 0.23233087006461736\n",
            "Custo Após 2770 iterações é 0.2359945208954278\n",
            "Custo Após 2780 iterações é 0.2409115193040809\n",
            "Custo Após 2790 iterações é 0.24344530395109115\n",
            "Custo Após 2800 iterações é 0.24080014449674086\n",
            "Custo Após 2810 iterações é 0.2397681575644004\n",
            "Custo Após 2820 iterações é 0.2380640717123767\n",
            "Custo Após 2830 iterações é 0.23149578235401544\n",
            "Custo Após 2840 iterações é 0.22996884126294304\n",
            "Custo Após 2850 iterações é 0.2305365853578261\n",
            "Custo Após 2860 iterações é 0.2334769184709136\n",
            "Custo Após 2870 iterações é 0.22918253839625116\n",
            "Custo Após 2880 iterações é 0.2289541886829904\n",
            "Custo Após 2890 iterações é 0.22913151995182235\n",
            "Custo Após 2900 iterações é 0.23093708358543033\n",
            "Custo Após 2910 iterações é 0.22865403151795394\n",
            "Custo Após 2920 iterações é 0.2281767322149332\n",
            "Custo Após 2930 iterações é 0.22807011035729954\n",
            "Custo Após 2940 iterações é 0.2278305725442247\n",
            "Custo Após 2950 iterações é 0.2279019542924101\n",
            "Custo Após 2960 iterações é 0.23190996913789733\n",
            "Custo Após 2970 iterações é 0.23340046600466768\n",
            "Custo Após 2980 iterações é 0.23335928690419744\n",
            "Custo Após 2990 iterações é 0.23382718472045214\n",
            "Treinamento durou  5 segundos \n"
          ],
          "name": "stdout"
        }
      ]
    },
    {
      "cell_type": "code",
      "metadata": {
        "id": "8NAq2dwxNopw",
        "colab_type": "code",
        "colab": {
          "base_uri": "https://localhost:8080/",
          "height": 837
        },
        "outputId": "147b115a-e9da-4dda-9186-41b513a47f3b"
      },
      "source": [
        "import seaborn as sns\n",
        "# Plot do erro no treinamento\n",
        "sns.set(rc={\"figure.figsize\":(25,15)});\n",
        "plt.plot(custo)\n",
        "plt.title(\"Erros em Treinamento\")"
      ],
      "execution_count": null,
      "outputs": [
        {
          "output_type": "stream",
          "text": [
            "/usr/local/lib/python3.6/dist-packages/statsmodels/tools/_testing.py:19: FutureWarning: pandas.util.testing is deprecated. Use the functions in the public API at pandas.testing instead.\n",
            "  import pandas.util.testing as tm\n"
          ],
          "name": "stderr"
        },
        {
          "output_type": "execute_result",
          "data": {
            "text/plain": [
              "Text(0.5, 1.0, 'Erros em Treinamento')"
            ]
          },
          "metadata": {
            "tags": []
          },
          "execution_count": 37
        },
        {
          "output_type": "display_data",
          "data": {
            "image/png": "[encoded data removed]",
            "text/plain": [
              "<Figure size 1800x1080 with 1 Axes>"
            ]
          },
          "metadata": {
            "tags": []
          }
        }
      ]
    },
    {
      "cell_type": "code",
      "metadata": {
        "id": "zYWXH12UNopz",
        "colab_type": "code",
        "colab": {}
      },
      "source": [
        "# Previsões em treino\n",
        "y_pred_treino = predict(X_treino, parametros)"
      ],
      "execution_count": null,
      "outputs": []
    },
    {
      "cell_type": "code",
      "metadata": {
        "id": "TWlD9I65Nop5",
        "colab_type": "code",
        "colab": {
          "base_uri": "https://localhost:8080/",
          "height": 1000
        },
        "outputId": "3b1fab61-76c9-413e-83b5-eff6411ca60a"
      },
      "source": [
        "# Visualização das previsões\n",
        "y_pred_treino"
      ],
      "execution_count": null,
      "outputs": [
        {
          "output_type": "execute_result",
          "data": {
            "text/plain": [
              "array([[4.66918129e-01, 2.44130425e-04, 6.94915456e-01, 8.74939680e-01,\n",
              "        2.49099957e-01, 8.59556950e-01, 2.74054333e-04, 8.40260961e-01,\n",
              "        8.70648993e-01, 8.75315788e-01, 8.74772598e-01, 5.44579530e-08,\n",
              "        8.74807518e-01, 8.75046412e-01, 8.75035769e-01, 8.74647572e-01,\n",
              "        7.70377741e-01, 8.75112291e-01, 1.78102748e-01, 8.74881342e-01,\n",
              "        7.04837410e-01, 8.35816797e-01, 1.73822375e-02, 8.74697664e-01,\n",
              "        4.27908961e-01, 8.74829774e-01, 6.60284630e-01, 8.74920638e-01,\n",
              "        8.71719132e-01, 8.75147362e-01, 5.00444014e-02, 1.78225110e-08,\n",
              "        3.84802134e-03, 8.74937347e-01, 3.07596312e-04, 8.74705453e-01,\n",
              "        8.74844648e-01, 8.67081298e-01, 8.74561509e-01, 8.74906557e-01,\n",
              "        9.53385728e-02, 8.37704832e-01, 8.71138675e-01, 8.68235323e-01,\n",
              "        5.00065628e-02, 8.74798702e-01, 8.74764904e-01, 8.74764703e-01,\n",
              "        1.31420463e-01, 5.27672623e-01, 8.74701170e-01, 5.70647859e-04,\n",
              "        8.07125682e-01, 8.74789096e-01, 1.19443405e-02, 8.74897473e-01,\n",
              "        3.52619832e-07, 7.89390727e-01, 8.26527459e-01, 2.18178834e-03,\n",
              "        8.75162423e-01, 8.74845180e-01, 8.74660309e-01, 2.19538984e-02,\n",
              "        4.88242907e-04, 8.67241760e-01, 8.74663945e-01, 3.86422764e-04,\n",
              "        8.74944100e-01, 8.71910916e-01, 2.68967047e-04, 8.72943065e-01,\n",
              "        8.74895464e-01, 8.74796427e-01, 1.93692796e-01, 8.74802973e-01,\n",
              "        8.74826093e-01, 1.09233451e-01, 6.19596857e-02, 8.12188542e-01,\n",
              "        8.74710732e-01, 8.45073809e-01, 9.35616123e-04, 7.43297889e-03,\n",
              "        6.41764376e-01, 4.32857296e-01, 3.67892185e-02, 8.74659892e-01,\n",
              "        8.75125399e-01, 8.53496788e-01, 8.73097832e-01, 8.74767619e-01,\n",
              "        8.26230555e-01, 8.63989577e-01, 8.74533288e-01, 8.74247793e-01,\n",
              "        8.74641575e-01, 9.27328816e-04, 8.65360431e-01, 8.73872492e-01,\n",
              "        8.74820421e-01, 8.74856840e-01, 7.86990248e-01, 8.74725136e-01,\n",
              "        1.38917411e-01, 1.00521659e-01, 1.29673502e-04, 8.74697368e-01,\n",
              "        8.74743362e-01, 1.06751815e-03, 2.06879994e-04, 8.74618461e-01,\n",
              "        8.33491921e-01, 1.44728237e-02, 8.58525591e-01, 8.74822464e-01,\n",
              "        5.35152621e-01, 8.74914675e-01, 8.74933048e-01, 4.61326789e-03,\n",
              "        8.74719744e-01, 8.75046471e-01, 8.74993149e-01, 5.65827003e-01,\n",
              "        2.72730099e-07, 7.37609525e-03, 8.74622004e-01, 8.74523081e-01,\n",
              "        1.56762380e-09, 2.34173427e-07, 8.74590078e-01, 4.14565680e-01,\n",
              "        8.74723862e-01, 8.74875914e-01, 8.74795875e-01, 7.43468378e-01,\n",
              "        3.71309343e-01, 1.49545913e-01, 8.65958925e-01, 8.74718696e-01,\n",
              "        8.50036075e-01, 8.73895068e-01, 4.42636276e-06, 7.77386220e-01,\n",
              "        8.74964008e-01, 8.71349876e-01, 8.74630720e-01, 1.93699074e-01,\n",
              "        8.89403451e-05, 8.71604653e-01, 6.42823822e-01, 8.74585361e-01,\n",
              "        8.74650625e-01, 6.00033260e-01, 1.50262623e-02, 8.72758426e-01,\n",
              "        8.74880010e-01, 3.70696254e-03, 8.74878232e-01, 3.04082028e-05,\n",
              "        3.68384248e-01, 6.81495738e-01, 8.69989705e-01, 5.99000053e-07,\n",
              "        8.32483016e-01, 2.66508759e-06, 1.35033082e-02, 4.19241870e-01,\n",
              "        8.74803709e-01, 5.35449605e-13, 5.43132243e-05, 8.70795574e-01,\n",
              "        9.18063648e-04, 8.65250644e-01, 1.46601114e-10, 8.75022583e-01,\n",
              "        8.74658189e-01, 8.74887374e-01, 8.74597682e-01, 8.74959055e-01,\n",
              "        8.74789687e-01, 1.14489653e-03, 1.72635766e-03, 8.73548853e-01,\n",
              "        8.74749025e-01, 1.01026316e-01, 1.59710364e-03, 1.69483652e-06,\n",
              "        8.74682666e-01, 3.79242946e-04, 8.74309399e-01, 8.06725544e-01,\n",
              "        8.74998655e-01, 8.74881606e-01, 8.75119374e-01, 8.74641450e-01,\n",
              "        1.94936342e-01, 2.59961792e-03, 1.78594025e-01, 8.74959062e-01,\n",
              "        8.72431425e-01, 8.65326553e-01, 8.69319030e-01, 8.74763919e-01,\n",
              "        8.71507627e-01, 8.74821513e-01, 8.74819194e-01, 7.46721760e-03,\n",
              "        8.73781051e-01, 8.51867127e-06, 8.74808933e-01, 8.74642790e-01,\n",
              "        5.32296511e-01, 8.74892088e-01, 8.29373227e-01, 8.72063572e-01,\n",
              "        8.74817717e-01, 2.89008152e-01, 8.74965654e-01, 8.74789167e-01,\n",
              "        8.74917259e-01, 8.74052799e-01, 7.71982896e-01, 8.74879401e-01,\n",
              "        8.74843379e-01, 8.74947532e-01, 8.74957914e-01, 8.74654997e-01,\n",
              "        8.69988299e-01, 8.74944398e-01, 8.74672876e-01, 8.74719812e-01,\n",
              "        8.74585133e-01, 7.86649220e-01, 6.77928022e-01, 7.52022607e-01,\n",
              "        4.22272514e-14, 8.74902120e-01, 8.74935701e-01, 3.74094106e-02,\n",
              "        4.92242800e-05, 8.74624910e-01, 8.74955677e-01, 8.74799399e-01,\n",
              "        8.74489886e-01, 4.70355433e-02, 6.44486527e-05, 5.13558877e-04,\n",
              "        7.50343112e-02, 8.74810499e-01, 8.74912437e-01, 1.10235144e-22,\n",
              "        8.74840791e-01, 2.13885775e-03, 1.75776162e-02, 6.41329249e-01,\n",
              "        1.46452405e-07, 1.22883811e-03, 7.95654953e-01, 7.90776460e-01,\n",
              "        8.74826133e-01, 8.74951098e-01, 8.74980145e-01, 1.33445024e-01,\n",
              "        8.72575801e-01, 8.74939236e-01, 8.74814480e-01, 8.74819573e-01,\n",
              "        8.74829461e-01, 8.74889177e-01, 7.96083989e-01, 4.04472183e-02,\n",
              "        8.74755705e-01, 8.74805358e-01, 4.99768702e-01, 5.84473511e-23,\n",
              "        8.74952511e-01, 8.74845616e-01, 8.86062413e-06, 2.24904288e-03,\n",
              "        7.40167701e-01, 8.62010640e-01, 8.72768041e-01, 5.24731001e-12,\n",
              "        8.74844055e-01, 8.74601061e-01, 1.61278445e-02, 8.75003109e-01,\n",
              "        8.59910424e-01, 8.75051745e-01, 8.74659390e-01, 8.36364158e-01,\n",
              "        4.20274737e-03, 8.72132328e-01, 3.56011251e-02, 1.58816556e-04,\n",
              "        8.74667585e-01, 8.74824814e-01, 8.74735633e-01, 6.56874118e-03,\n",
              "        1.38336917e-13, 8.04377365e-01, 8.47411397e-02, 8.74768309e-01,\n",
              "        8.74927579e-01, 8.74900291e-01, 8.74953408e-01, 4.98783337e-06,\n",
              "        8.88675302e-08, 8.37588037e-01, 8.74943327e-01, 8.65133213e-01,\n",
              "        8.74910920e-01, 1.64900574e-04, 8.11065358e-01, 8.74993945e-01,\n",
              "        8.30560348e-01, 6.53024498e-09, 8.31274817e-01, 8.74580939e-01,\n",
              "        1.12298519e-10, 8.74937617e-01, 1.10641557e-06, 1.60051611e-03,\n",
              "        8.75183171e-01, 8.74951147e-01, 4.64814205e-01, 8.74775371e-01,\n",
              "        2.27428272e-03, 8.74732553e-01, 8.33126044e-01, 8.74875889e-01,\n",
              "        4.71884220e-08, 8.74840036e-01, 7.80390006e-01, 1.10692426e-02,\n",
              "        8.07854319e-02, 8.74917466e-01, 8.74990443e-01, 8.75078362e-01,\n",
              "        8.72399565e-01, 8.74770523e-01, 7.53744084e-01, 1.87615485e-01,\n",
              "        8.74822936e-01, 3.90879991e-03, 8.74788784e-01, 7.95889417e-01,\n",
              "        1.50204209e-05, 8.74827634e-01, 8.74791608e-01, 2.68607940e-05,\n",
              "        2.20586146e-04, 8.74746751e-01, 8.64829288e-01, 4.87290089e-05,\n",
              "        4.50557061e-02, 3.22819681e-04, 4.37557108e-02, 8.70429461e-01,\n",
              "        8.74956587e-01, 2.74644387e-04, 1.15590909e-04, 8.74628718e-01,\n",
              "        8.74797210e-01, 3.16263625e-04, 8.44879194e-01, 7.05877879e-01,\n",
              "        8.74814890e-01, 8.74768053e-01, 8.74910998e-01, 2.42313420e-02,\n",
              "        8.61562631e-01, 8.74639088e-01, 3.07158740e-04, 1.52864845e-10,\n",
              "        8.71653655e-01, 5.73256404e-01, 2.31750614e-13, 8.74717270e-01,\n",
              "        8.70855449e-01, 8.74867283e-01, 8.74891717e-01, 8.74943044e-01,\n",
              "        4.33743442e-01, 8.75008525e-01, 8.48210611e-01, 8.24007318e-01,\n",
              "        8.70645041e-01, 3.04727911e-01, 8.41667713e-01, 4.31917670e-01,\n",
              "        8.74807343e-01, 4.70230471e-03, 8.74803637e-01, 8.74642888e-01,\n",
              "        1.41936271e-02, 8.74737174e-01, 8.74949784e-01, 8.74708652e-01,\n",
              "        8.74498753e-01, 4.38615343e-10, 9.67669552e-07, 8.66605806e-01,\n",
              "        8.74861666e-01, 8.25667172e-01, 8.03620137e-01, 8.74783845e-01,\n",
              "        8.75066060e-01, 8.73672516e-01, 8.65059905e-01, 1.14063827e-13,\n",
              "        1.74004610e-01, 8.74688500e-01, 9.30484232e-09, 8.74671528e-01,\n",
              "        8.74808567e-01, 1.24046394e-01, 7.31036245e-01, 4.02465975e-02,\n",
              "        3.15145170e-07, 8.74877094e-01, 8.74689044e-01, 8.74844803e-01,\n",
              "        8.74890327e-01, 4.25028138e-01, 8.74818518e-01, 8.74746605e-01,\n",
              "        8.74898817e-01, 9.35142309e-07, 8.74837848e-01, 5.24849406e-02,\n",
              "        8.74895061e-01, 8.74498057e-01, 8.74635635e-01, 8.74851781e-01,\n",
              "        8.62931508e-01, 8.74621752e-01, 8.74839575e-01, 8.64842735e-01,\n",
              "        5.71247628e-05, 2.22351889e-02, 8.74655403e-01, 8.74866006e-01,\n",
              "        8.74768739e-01, 4.67853246e-01, 7.22132178e-03, 4.24261692e-04,\n",
              "        3.57905502e-01, 8.33284259e-01, 8.62295891e-01, 8.73461426e-01,\n",
              "        3.65262690e-01, 1.49280881e-03, 8.74923263e-01]])"
            ]
          },
          "metadata": {
            "tags": []
          },
          "execution_count": 39
        }
      ]
    },
    {
      "cell_type": "code",
      "metadata": {
        "id": "IFsn4rsTNop9",
        "colab_type": "code",
        "colab": {
          "base_uri": "https://localhost:8080/",
          "height": 884
        },
        "outputId": "ee34abc6-56ca-470e-bacb-df1236071b10"
      },
      "source": [
        "# Ajustamos o shape para treino\n",
        "y_pred_treino = y_pred_treino.reshape(-1)\n",
        "y_treino = y_treino.reshape(-1)\n",
        "y_pred_treino > 0.5"
      ],
      "execution_count": null,
      "outputs": [
        {
          "output_type": "execute_result",
          "data": {
            "text/plain": [
              "array([False, False,  True,  True, False,  True, False,  True,  True,\n",
              "        True,  True, False,  True,  True,  True,  True,  True,  True,\n",
              "       False,  True,  True,  True, False,  True, False,  True,  True,\n",
              "        True,  True,  True, False, False, False,  True, False,  True,\n",
              "        True,  True,  True,  True, False,  True,  True,  True, False,\n",
              "        True,  True,  True, False,  True,  True, False,  True,  True,\n",
              "       False,  True, False,  True,  True, False,  True,  True,  True,\n",
              "       False, False,  True,  True, False,  True,  True, False,  True,\n",
              "        True,  True, False,  True,  True, False, False,  True,  True,\n",
              "        True, False, False,  True, False, False,  True,  True,  True,\n",
              "        True,  True,  True,  True,  True,  True,  True, False,  True,\n",
              "        True,  True,  True,  True,  True, False, False, False,  True,\n",
              "        True, False, False,  True,  True, False,  True,  True,  True,\n",
              "        True,  True, False,  True,  True,  True,  True, False, False,\n",
              "        True,  True, False, False,  True, False,  True,  True,  True,\n",
              "        True, False, False,  True,  True,  True,  True, False,  True,\n",
              "        True,  True,  True, False, False,  True,  True,  True,  True,\n",
              "        True, False,  True,  True, False,  True, False, False,  True,\n",
              "        True, False,  True, False, False, False,  True, False, False,\n",
              "        True, False,  True, False,  True,  True,  True,  True,  True,\n",
              "        True, False, False,  True,  True, False, False, False,  True,\n",
              "       False,  True,  True,  True,  True,  True,  True, False, False,\n",
              "       False,  True,  True,  True,  True,  True,  True,  True,  True,\n",
              "       False,  True, False,  True,  True,  True,  True,  True,  True,\n",
              "        True, False,  True,  True,  True,  True,  True,  True,  True,\n",
              "        True,  True,  True,  True,  True,  True,  True,  True,  True,\n",
              "        True,  True, False,  True,  True, False, False,  True,  True,\n",
              "        True,  True, False, False, False, False,  True,  True, False,\n",
              "        True, False, False,  True, False, False,  True,  True,  True,\n",
              "        True,  True, False,  True,  True,  True,  True,  True,  True,\n",
              "        True, False,  True,  True, False, False,  True,  True, False,\n",
              "       False,  True,  True,  True, False,  True,  True, False,  True,\n",
              "        True,  True,  True,  True, False,  True, False, False,  True,\n",
              "        True,  True, False, False,  True, False,  True,  True,  True,\n",
              "        True, False, False,  True,  True,  True,  True, False,  True,\n",
              "        True,  True, False,  True,  True, False,  True, False, False,\n",
              "        True,  True, False,  True, False,  True,  True,  True, False,\n",
              "        True,  True, False, False,  True,  True,  True,  True,  True,\n",
              "        True, False,  True, False,  True,  True, False,  True,  True,\n",
              "       False, False,  True,  True, False, False, False, False,  True,\n",
              "        True, False, False,  True,  True, False,  True,  True,  True,\n",
              "        True,  True, False,  True,  True, False, False,  True,  True,\n",
              "       False,  True,  True,  True,  True,  True, False,  True,  True,\n",
              "        True,  True, False,  True, False,  True, False,  True,  True,\n",
              "       False,  True,  True,  True,  True, False, False,  True,  True,\n",
              "        True,  True,  True,  True,  True,  True, False, False,  True,\n",
              "       False,  True,  True, False,  True, False, False,  True,  True,\n",
              "        True,  True, False,  True,  True,  True, False,  True, False,\n",
              "        True,  True,  True,  True,  True,  True,  True,  True, False,\n",
              "       False,  True,  True,  True, False, False, False, False,  True,\n",
              "        True,  True, False, False,  True])"
            ]
          },
          "metadata": {
            "tags": []
          },
          "execution_count": 40
        }
      ]
    },
    {
      "cell_type": "code",
      "metadata": {
        "id": "w9QW2734NoqA",
        "colab_type": "code",
        "colab": {
          "base_uri": "https://localhost:8080/",
          "height": 374
        },
        "outputId": "627138dc-5c3c-4b5b-870f-c5e80faa9ba8"
      },
      "source": [
        "# Conversão das previsões binário de classe (0 ou 1), usando como threshold o valor de 0.5 da probabilidade\n",
        "y_pred_treino = 1 * (y_pred_treino > 0.5)\n",
        "y_pred_treino"
      ],
      "execution_count": null,
      "outputs": [
        {
          "output_type": "execute_result",
          "data": {
            "text/plain": [
              "array([0, 0, 1, 1, 0, 1, 0, 1, 1, 1, 1, 0, 1, 1, 1, 1, 1, 1, 0, 1, 1, 1,\n",
              "       0, 1, 0, 1, 1, 1, 1, 1, 0, 0, 0, 1, 0, 1, 1, 1, 1, 1, 0, 1, 1, 1,\n",
              "       0, 1, 1, 1, 0, 1, 1, 0, 1, 1, 0, 1, 0, 1, 1, 0, 1, 1, 1, 0, 0, 1,\n",
              "       1, 0, 1, 1, 0, 1, 1, 1, 0, 1, 1, 0, 0, 1, 1, 1, 0, 0, 1, 0, 0, 1,\n",
              "       1, 1, 1, 1, 1, 1, 1, 1, 1, 0, 1, 1, 1, 1, 1, 1, 0, 0, 0, 1, 1, 0,\n",
              "       0, 1, 1, 0, 1, 1, 1, 1, 1, 0, 1, 1, 1, 1, 0, 0, 1, 1, 0, 0, 1, 0,\n",
              "       1, 1, 1, 1, 0, 0, 1, 1, 1, 1, 0, 1, 1, 1, 1, 0, 0, 1, 1, 1, 1, 1,\n",
              "       0, 1, 1, 0, 1, 0, 0, 1, 1, 0, 1, 0, 0, 0, 1, 0, 0, 1, 0, 1, 0, 1,\n",
              "       1, 1, 1, 1, 1, 0, 0, 1, 1, 0, 0, 0, 1, 0, 1, 1, 1, 1, 1, 1, 0, 0,\n",
              "       0, 1, 1, 1, 1, 1, 1, 1, 1, 0, 1, 0, 1, 1, 1, 1, 1, 1, 1, 0, 1, 1,\n",
              "       1, 1, 1, 1, 1, 1, 1, 1, 1, 1, 1, 1, 1, 1, 1, 1, 0, 1, 1, 0, 0, 1,\n",
              "       1, 1, 1, 0, 0, 0, 0, 1, 1, 0, 1, 0, 0, 1, 0, 0, 1, 1, 1, 1, 1, 0,\n",
              "       1, 1, 1, 1, 1, 1, 1, 0, 1, 1, 0, 0, 1, 1, 0, 0, 1, 1, 1, 0, 1, 1,\n",
              "       0, 1, 1, 1, 1, 1, 0, 1, 0, 0, 1, 1, 1, 0, 0, 1, 0, 1, 1, 1, 1, 0,\n",
              "       0, 1, 1, 1, 1, 0, 1, 1, 1, 0, 1, 1, 0, 1, 0, 0, 1, 1, 0, 1, 0, 1,\n",
              "       1, 1, 0, 1, 1, 0, 0, 1, 1, 1, 1, 1, 1, 0, 1, 0, 1, 1, 0, 1, 1, 0,\n",
              "       0, 1, 1, 0, 0, 0, 0, 1, 1, 0, 0, 1, 1, 0, 1, 1, 1, 1, 1, 0, 1, 1,\n",
              "       0, 0, 1, 1, 0, 1, 1, 1, 1, 1, 0, 1, 1, 1, 1, 0, 1, 0, 1, 0, 1, 1,\n",
              "       0, 1, 1, 1, 1, 0, 0, 1, 1, 1, 1, 1, 1, 1, 1, 0, 0, 1, 0, 1, 1, 0,\n",
              "       1, 0, 0, 1, 1, 1, 1, 0, 1, 1, 1, 0, 1, 0, 1, 1, 1, 1, 1, 1, 1, 1,\n",
              "       0, 0, 1, 1, 1, 0, 0, 0, 0, 1, 1, 1, 0, 0, 1])"
            ]
          },
          "metadata": {
            "tags": []
          },
          "execution_count": 41
        }
      ]
    },
    {
      "cell_type": "code",
      "metadata": {
        "id": "jSG9HSv_NoqD",
        "colab_type": "code",
        "colab": {
          "base_uri": "https://localhost:8080/",
          "height": 34
        },
        "outputId": "6d6d44d7-f26c-48d1-b89b-46734aa7224a"
      },
      "source": [
        "# Calculo da acurácia comparando valor real com valor previsto\n",
        "aval_treino = sum(1 * (y_pred_treino == y_treino)) / len(y_pred_treino) * 100\n",
        "print(\"Acurácia em Treino: \" + str(aval_treino))"
      ],
      "execution_count": null,
      "outputs": [
        {
          "output_type": "stream",
          "text": [
            "Acurácia em Treino: 92.52747252747253\n"
          ],
          "name": "stdout"
        }
      ]
    },
    {
      "cell_type": "code",
      "metadata": {
        "id": "jgt8Z29-NoqI",
        "colab_type": "code",
        "colab": {
          "base_uri": "https://localhost:8080/",
          "height": 170
        },
        "outputId": "16be06e7-077f-4601-fe11-11947623e7ce"
      },
      "source": [
        "print(classification_report(y_treino, y_pred_treino, target_names = ['Maligno', 'Benigno']))"
      ],
      "execution_count": null,
      "outputs": [
        {
          "output_type": "stream",
          "text": [
            "              precision    recall  f1-score   support\n",
            "\n",
            "     Maligno       0.97      0.83      0.90       174\n",
            "     Benigno       0.90      0.98      0.94       281\n",
            "\n",
            "    accuracy                           0.93       455\n",
            "   macro avg       0.94      0.91      0.92       455\n",
            "weighted avg       0.93      0.93      0.92       455\n",
            "\n"
          ],
          "name": "stdout"
        }
      ]
    },
    {
      "cell_type": "code",
      "metadata": {
        "id": "Ko_IwJlGNoqP",
        "colab_type": "code",
        "colab": {
          "base_uri": "https://localhost:8080/",
          "height": 510
        },
        "outputId": "e58a2063-f4a5-44f9-9f8a-c56c455b4fcb"
      },
      "source": [
        "# Previsões usando dados de teste\n",
        "y_pred_teste = predict(X_teste, parametros)\n",
        "y_pred_teste"
      ],
      "execution_count": null,
      "outputs": [
        {
          "output_type": "execute_result",
          "data": {
            "text/plain": [
              "array([[8.74784698e-01, 8.74857877e-01, 8.20234176e-01, 6.89158209e-13,\n",
              "        8.71500539e-01, 6.22630290e-01, 7.96448623e-01, 1.92132202e-05,\n",
              "        8.74814529e-01, 8.74823837e-01, 8.74812111e-01, 8.75110504e-01,\n",
              "        8.74768834e-01, 8.75037441e-01, 8.74615081e-01, 1.78527862e-01,\n",
              "        3.90261785e-06, 8.73707197e-01, 8.71225604e-01, 3.22337459e-02,\n",
              "        8.57196142e-01, 8.64929997e-01, 8.74841088e-01, 8.17914823e-01,\n",
              "        8.74813665e-01, 5.68379137e-01, 8.75036167e-01, 8.39197949e-01,\n",
              "        8.75110085e-01, 8.74758541e-01, 8.74733693e-01, 8.02563044e-01,\n",
              "        8.74885303e-01, 8.74986535e-01, 4.05235969e-02, 8.75171395e-01,\n",
              "        8.62948905e-01, 8.74687932e-01, 8.67506735e-01, 9.29569059e-05,\n",
              "        8.01170405e-01, 8.75055744e-01, 2.31755744e-01, 6.29669624e-01,\n",
              "        8.68172348e-01, 1.06359852e-04, 8.07800469e-01, 8.74964938e-01,\n",
              "        8.74925357e-01, 8.74863317e-01, 8.74705534e-01, 5.14905643e-04,\n",
              "        1.71049541e-03, 5.51857534e-01, 7.69414077e-01, 8.74980683e-01,\n",
              "        2.86581312e-07, 8.75044353e-01, 8.75013835e-01, 8.56850423e-01,\n",
              "        8.60849444e-01, 3.15279088e-12, 3.66913326e-01, 8.75027791e-01,\n",
              "        8.74671550e-01, 8.73788786e-01, 9.57489893e-05, 2.15813234e-18,\n",
              "        3.55899212e-01, 7.74917822e-03, 8.74800715e-01, 7.71269478e-01,\n",
              "        1.65065443e-07, 8.74773643e-01, 8.74763228e-01, 8.74804333e-01,\n",
              "        8.74597386e-01, 8.75155780e-01, 8.74634674e-01, 1.76972725e-02,\n",
              "        8.74784849e-01, 7.15417664e-01, 2.46308368e-01, 8.74984129e-01,\n",
              "        8.74855761e-01, 8.72536953e-01, 8.74831199e-01, 2.54560250e-10,\n",
              "        1.65699515e-01, 8.74844375e-01, 8.74950421e-01, 8.73678704e-01,\n",
              "        3.56204347e-06, 8.74773940e-01, 8.74672070e-01, 1.10407855e-03,\n",
              "        8.74861750e-01, 8.74798327e-01, 8.74880520e-01, 8.74799675e-01,\n",
              "        8.74615591e-01, 8.53816398e-02, 1.32544941e-04, 7.92329114e-04,\n",
              "        1.82263951e-01, 7.05832744e-01, 8.74790685e-01, 7.90078843e-01,\n",
              "        8.74884724e-01, 8.74820440e-01, 8.42756169e-01, 8.74969256e-01,\n",
              "        8.45556180e-05, 8.74643677e-01]])"
            ]
          },
          "metadata": {
            "tags": []
          },
          "execution_count": 44
        }
      ]
    },
    {
      "cell_type": "code",
      "metadata": {
        "id": "J5qwiTxMNoqW",
        "colab_type": "code",
        "colab": {
          "base_uri": "https://localhost:8080/",
          "height": 119
        },
        "outputId": "d8736846-8449-4c1f-92b0-ca4af9bcde51"
      },
      "source": [
        "# Ajuste dos shapes\n",
        "y_pred_teste = y_pred_teste.reshape(-1)\n",
        "y_teste = y_teste.reshape(-1)\n",
        "\n",
        "# Conversão das previsões binário)referente a classe)\n",
        "y_pred_teste = 1 * (y_pred_teste > 0.5)\n",
        "\n",
        "# Resultado das previsões em si\n",
        "y_pred_teste"
      ],
      "execution_count": null,
      "outputs": [
        {
          "output_type": "execute_result",
          "data": {
            "text/plain": [
              "array([1, 1, 1, 0, 1, 1, 1, 0, 1, 1, 1, 1, 1, 1, 1, 0, 0, 1, 1, 0, 1, 1,\n",
              "       1, 1, 1, 1, 1, 1, 1, 1, 1, 1, 1, 1, 0, 1, 1, 1, 1, 0, 1, 1, 0, 1,\n",
              "       1, 0, 1, 1, 1, 1, 1, 0, 0, 1, 1, 1, 0, 1, 1, 1, 1, 0, 0, 1, 1, 1,\n",
              "       0, 0, 0, 0, 1, 1, 0, 1, 1, 1, 1, 1, 1, 0, 1, 1, 0, 1, 1, 1, 1, 0,\n",
              "       0, 1, 1, 1, 0, 1, 1, 0, 1, 1, 1, 1, 1, 0, 0, 0, 0, 1, 1, 1, 1, 1,\n",
              "       1, 1, 0, 1])"
            ]
          },
          "metadata": {
            "tags": []
          },
          "execution_count": 45
        }
      ]
    },
    {
      "cell_type": "code",
      "metadata": {
        "id": "6451jq3XNoqc",
        "colab_type": "code",
        "colab": {
          "base_uri": "https://localhost:8080/",
          "height": 34
        },
        "outputId": "6290eeeb-1b30-435c-ca3f-cb5ffe180d33"
      },
      "source": [
        "# Acurácia\n",
        "acuraciaFim = sum(1 * (y_pred_teste == y_teste)) / len(y_pred_teste) * 100\n",
        "print(\"Acurácia em dados de Teste: \" + str(acuraciaFim))\n",
        "\n",
        "#Propositalmente um parâmetro foi ajustado para fornecer uma saída relativamente baixa. Faz parte da atividade identificar o(s) parâmetro(s) em questão."
      ],
      "execution_count": null,
      "outputs": [
        {
          "output_type": "stream",
          "text": [
            "Acurácia em dados de Teste: 91.22807017543859\n"
          ],
          "name": "stdout"
        }
      ]
    },
    {
      "cell_type": "code",
      "metadata": {
        "id": "7PBihuTXNoqh",
        "colab_type": "code",
        "colab": {
          "base_uri": "https://localhost:8080/",
          "height": 170
        },
        "outputId": "b935c3ff-a4d0-463f-ba0d-ebf052cc1339"
      },
      "source": [
        "print(classification_report(y_teste, y_pred_teste, target_names = ['Maligno', 'Benigno']))"
      ],
      "execution_count": null,
      "outputs": [
        {
          "output_type": "stream",
          "text": [
            "              precision    recall  f1-score   support\n",
            "\n",
            "     Maligno       0.97      0.76      0.85        38\n",
            "     Benigno       0.89      0.99      0.94        76\n",
            "\n",
            "    accuracy                           0.91       114\n",
            "   macro avg       0.93      0.88      0.90       114\n",
            "weighted avg       0.92      0.91      0.91       114\n",
            "\n"
          ],
          "name": "stdout"
        }
      ]
    },
    {
      "cell_type": "markdown",
      "metadata": {
        "id": "OflEJFmfNoqm",
        "colab_type": "text"
      },
      "source": [
        "### Atividade extra: Pesquisar o que é Precision, Recall, F1-score, Support"
      ]
    },
    {
      "cell_type": "code",
      "metadata": {
        "id": "GPq6I9flNoqm",
        "colab_type": "code",
        "colab": {}
      },
      "source": [
        ""
      ],
      "execution_count": null,
      "outputs": []
    }
  ]
}