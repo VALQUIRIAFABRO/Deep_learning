{
  "nbformat": 4,
  "nbformat_minor": 0,
  "metadata": {
    "kernelspec": {
      "display_name": "Python 3",
      "language": "python",
      "name": "python3"
    },
    "language_info": {
      "codemirror_mode": {
        "name": "ipython",
        "version": 3
      },
      "file_extension": ".py",
      "mimetype": "text/x-python",
      "name": "python",
      "nbconvert_exporter": "python",
      "pygments_lexer": "ipython3",
      "version": "3.7.6"
    },
    "colab": {
      "name": "RNN_DeepLearning_Val.ipynb",
      "provenance": [],
      "include_colab_link": true
    }
  },
  "cells": [
    {
      "cell_type": "markdown",
      "metadata": {
        "id": "view-in-github",
        "colab_type": "text"
      },
      "source": [
        "<a href=\"https://colab.research.google.com/github/VALQUIRIAFABRO/Deep_learning/blob/master/RNN_DeepLearning_breast_cancer_dataset.ipynb\" target=\"_parent\"><img src=\"https://colab.research.google.com/assets/colab-badge.svg\" alt=\"Open In Colab\"/></a>"
      ]
    },
    {
      "cell_type": "markdown",
      "metadata": {
        "id": "U4x5AgN6V1C3",
        "colab_type": "text"
      },
      "source": [
        "### Implementação de uma RNN"
      ]
    },
    {
      "cell_type": "code",
      "metadata": {
        "id": "L8934Ts7V1C4",
        "colab_type": "code",
        "colab": {}
      },
      "source": [
        "#Importando libraries de interesse\n",
        "import pandas as pd\n",
        "import numpy as np\n",
        "import matplotlib #library para gráficos\n",
        "import matplotlib.pyplot as plt\n",
        "import sklearn #library de machine learning\n",
        "from sklearn.datasets import load_breast_cancer #dataset\n",
        "from sklearn.model_selection import train_test_split\n",
        "from sklearn.metrics import classification_report\n",
        "import time #Infos de tempo"
      ],
      "execution_count": 1,
      "outputs": []
    },
    {
      "cell_type": "markdown",
      "metadata": {
        "id": "LwrI7C0yV1C-",
        "colab_type": "text"
      },
      "source": [
        "### Função Para Inicialização de Pesos"
      ]
    },
    {
      "cell_type": "code",
      "metadata": {
        "id": "JM2meRwJV1C_",
        "colab_type": "code",
        "colab": {}
      },
      "source": [
        "# Função para inicialização randômica dos parâmetros do modelo\n",
        "def inicializa_parametros(dims_camada_entrada):\n",
        "    \n",
        "    # Dicionário para os parâmetros\n",
        "    parameters = {}\n",
        "    \n",
        "    # Comprimento das dimensões das camadas\n",
        "    comp = len(dims_camada_entrada)\n",
        "    \n",
        "    # Loop pelo comprimento\n",
        "    for i in range(1, comp):\n",
        "        \n",
        "        # Inicialização da matriz de pesos\n",
        "        parameters[\"W\" + str(i)] = np.random.randn(dims_camada_entrada[i], dims_camada_entrada[i - 1]) * 0.01\n",
        "        \n",
        "        # Inicialização do bias\n",
        "        parameters[\"b\" + str(i)] = np.zeros((dims_camada_entrada[i], 1))\n",
        "    \n",
        "    return parameters"
      ],
      "execution_count": 2,
      "outputs": []
    },
    {
      "cell_type": "code",
      "metadata": {
        "id": "qF_-yuG8V1DG",
        "colab_type": "code",
        "colab": {}
      },
      "source": [
        "# Função sigmóide\n",
        "'''\n",
        "Utilizamos a função sigmóide pois permite converter números para valores entre 0 e 1.\n",
        "Usada para modelos em que temos que prever a probabilidade como uma saída, sendo qualquer item existente no intervalo entre 0 e 1.\n",
        "'''\n",
        "def sigmoid(Z):\n",
        "    A = 1 / (1 + np.exp(-Z))\n",
        "    return A, Z"
      ],
      "execution_count": 3,
      "outputs": []
    },
    {
      "cell_type": "code",
      "metadata": {
        "id": "ATio9IFUV1DO",
        "colab_type": "code",
        "colab": {}
      },
      "source": [
        "# Função de ativação ReLu (Rectified Linear Unit)\n",
        "'''\n",
        "Fynção de ativação para utilizarmos na descida do SGD com retropropagação de erros.\n",
        "'''\n",
        "def relu(Z):\n",
        "    A = abs(Z * (Z > 0))\n",
        "    return A, Z"
      ],
      "execution_count": 4,
      "outputs": []
    },
    {
      "cell_type": "code",
      "metadata": {
        "id": "ZnwjSxvAV1DT",
        "colab_type": "code",
        "colab": {}
      },
      "source": [
        "# Operação de ativação\n",
        "def linear_activation(A, W, b):\n",
        "    Z = np.dot(W, A) + b\n",
        "    cache = (A, W, b)\n",
        "    return Z, cache\n",
        "\n",
        "#\"A\": matriz com os dados de entrad / \"W\": matriz de pesos / \"b\": bias"
      ],
      "execution_count": 5,
      "outputs": []
    },
    {
      "cell_type": "markdown",
      "metadata": {
        "id": "Va9SWGU3V1DX",
        "colab_type": "text"
      },
      "source": [
        "### Forward Propagation"
      ]
    },
    {
      "cell_type": "code",
      "metadata": {
        "id": "GZKdrAETV1DY",
        "colab_type": "code",
        "colab": {}
      },
      "source": [
        "# Movimento forward\n",
        "def forward(A_prev, W, b, activation):\n",
        "    \n",
        "    # Se a função de ativação for Sigmoid\n",
        "    if activation == \"sigmoid\":\n",
        "        Z, linear_cache = linear_activation(A_prev, W, b)\n",
        "        A, activation_cache = sigmoid(Z)\n",
        "        \n",
        "    # Se for ReLu    \n",
        "    elif activation == \"relu\":\n",
        "        Z, linear_cache = linear_activation(A_prev, W, b)\n",
        "        A, activation_cache = relu(Z)\n",
        "        \n",
        "    cache = (linear_cache, activation_cache)\n",
        "    \n",
        "    return A, cache"
      ],
      "execution_count": 6,
      "outputs": []
    },
    {
      "cell_type": "code",
      "metadata": {
        "id": "CL6IW9w9V1Dg",
        "colab_type": "code",
        "colab": {}
      },
      "source": [
        "#Combinando Ativação e Propagação\n",
        "\n",
        "# Propagação forward\n",
        "def forward_propagation(X, parameters):\n",
        "    \n",
        "    # Lista de valores anteriores (cache)\n",
        "    caches = []\n",
        "    \n",
        "    # Dados de entrada\n",
        "    A = X\n",
        "    \n",
        "    # Comprimento dos parâmetros\n",
        "    L = len(parameters) // 2\n",
        "   \n",
        "    # Loop\n",
        "    for i in range(1, L):\n",
        "      \n",
        "        # Guarda o valor prévio de A\n",
        "        A_prev = A\n",
        "        \n",
        "        # Executa o forward\n",
        "        A, cache = forward(A_prev, parameters[\"W\" + str(i)], parameters[\"b\" + str(i)], activation = \"relu\")\n",
        "        \n",
        "        # Grava o cache\n",
        "        caches.append(cache)\n",
        "    \n",
        "    # Saída na última camada\n",
        "    A_last, cache = forward(A, parameters[\"W\" + str(L)], parameters[\"b\" + str(L)], activation = \"sigmoid\")\n",
        "    \n",
        "    # Grava o cache\n",
        "    caches.append(cache)\n",
        "    \n",
        "    return(A_last, caches)"
      ],
      "execution_count": 8,
      "outputs": []
    },
    {
      "cell_type": "markdown",
      "metadata": {
        "id": "bTp-5Z28V1Dp",
        "colab_type": "text"
      },
      "source": [
        "### Função de Custo (Cost Function)"
      ]
    },
    {
      "cell_type": "code",
      "metadata": {
        "id": "cU4fr62ZV1Dq",
        "colab_type": "code",
        "colab": {}
      },
      "source": [
        "def calc_custo(A_last, Y):\n",
        "    \n",
        "    # Ajusta o shape de Y para obter seu comprimento (total de elementos)\n",
        "    m = Y.shape[1]\n",
        "    \n",
        "    # Calcula o custo comparando valor real e previso\n",
        "    custo = (-1 / m) * np.sum((Y * np.log(A_last)) + ((1 - Y) * np.log(1 - A_last)))\n",
        "    \n",
        "    # Ajusta o shape do custo\n",
        "    custo = np.squeeze(custo)\n",
        "    \n",
        "    return(custo)"
      ],
      "execution_count": 9,
      "outputs": []
    },
    {
      "cell_type": "markdown",
      "metadata": {
        "id": "ahDStm05V1Dz",
        "colab_type": "text"
      },
      "source": [
        "### Backward Propagation - Função Sigmóide Backward"
      ]
    },
    {
      "cell_type": "code",
      "metadata": {
        "id": "3OKhi9xHV1D0",
        "colab_type": "code",
        "colab": {}
      },
      "source": [
        "# Função sigmoid para o backpropagation \n",
        "# Cálculo da derivada pois temos interessa na informação relacionada a sua variação\n",
        "def sigmoid_backward(da, Z):\n",
        "    \n",
        "    # Calculo da derivada de Z\n",
        "    dg = (1 / (1 + np.exp(-Z))) * (1 - (1 / (1 + np.exp(-Z))))\n",
        "    \n",
        "    # Identificação da alteração na derivada de z\n",
        "    dz = da * dg\n",
        "    return dz"
      ],
      "execution_count": 10,
      "outputs": []
    },
    {
      "cell_type": "markdown",
      "metadata": {
        "id": "lh1Lbh8lV1D4",
        "colab_type": "text"
      },
      "source": [
        "#### Backward Propagation - Função ReLu Backward"
      ]
    },
    {
      "cell_type": "code",
      "metadata": {
        "id": "QxndjEIdV1D4",
        "colab_type": "code",
        "colab": {}
      },
      "source": [
        "def relu_backward(da, Z):\n",
        "    \n",
        "    dg = 1 * ( Z >= 0)\n",
        "    dz = da * dg\n",
        "    return dz\n",
        "\n",
        "#Os interesses são os mesmos da função sigmóide no que se refere a informação d avriação."
      ],
      "execution_count": 11,
      "outputs": []
    },
    {
      "cell_type": "markdown",
      "metadata": {
        "id": "yz-TQioEV1D7",
        "colab_type": "text"
      },
      "source": [
        "### Backward Propagation - Ativação Linear Backward"
      ]
    },
    {
      "cell_type": "code",
      "metadata": {
        "id": "VJ7Ku04ZV1D-",
        "colab_type": "code",
        "colab": {}
      },
      "source": [
        "def linear_backward_function(dz, cache):\n",
        "    \n",
        "    # Recebe valor da memória (cache)\n",
        "    A_prev, W, b = cache\n",
        "    \n",
        "    # Shape de m\n",
        "    m = A_prev.shape[1]\n",
        "    \n",
        "    # Calculo da derivada de W (Result. operação com dz)\n",
        "    dW = (1 / m) * np.dot(dz, A_prev.T)\n",
        "    \n",
        "    # Calculo da derivada de b (Result. operação com dz)\n",
        "    db = (1 / m) * np.sum(dz, axis = 1, keepdims = True)\n",
        "    \n",
        "    # Calculo da derivada da operação\n",
        "    dA_prev = np.dot(W.T, dz)\n",
        "    \n",
        "    return dA_prev, dW, db"
      ],
      "execution_count": 12,
      "outputs": []
    },
    {
      "cell_type": "markdown",
      "metadata": {
        "id": "JxH_0OzhV1EB",
        "colab_type": "text"
      },
      "source": [
        "### Backward Propagation - Ativação Linear Backward"
      ]
    },
    {
      "cell_type": "code",
      "metadata": {
        "id": "4L08N3J_V1EB",
        "colab_type": "code",
        "colab": {}
      },
      "source": [
        "# Tipo de ativação (relu ou sigmoid)\n",
        "def linear_activation_backward(dA, cache, activation):\n",
        "    \n",
        "    # Extrai o cache\n",
        "    linear_cache, activation_cache = cache\n",
        "    \n",
        "    # Verifica se é ReLu\n",
        "    if activation == \"relu\":\n",
        "        dZ = relu_backward(dA, activation_cache)\n",
        "        dA_prev, dW, db = linear_backward_function(dZ, linear_cache)\n",
        "        \n",
        "    # Verifica se é Sigmoid\n",
        "    if activation == \"sigmoid\":\n",
        "        dZ = sigmoid_backward(dA, activation_cache)\n",
        "        dA_prev, dW, db = linear_backward_function(dZ, linear_cache)\n",
        "        \n",
        "    return dA_prev, dW, db"
      ],
      "execution_count": 13,
      "outputs": []
    },
    {
      "cell_type": "markdown",
      "metadata": {
        "id": "oLxpcynXV1EE",
        "colab_type": "text"
      },
      "source": [
        "### Algoritmo Backpropagation"
      ]
    },
    {
      "cell_type": "code",
      "metadata": {
        "id": "nhN2ZPoVV1EF",
        "colab_type": "code",
        "colab": {}
      },
      "source": [
        "def backward_propagation(AL, Y, caches):\n",
        "    \n",
        "    grads = {}\n",
        "    L = len(caches)\n",
        "    m = AL.shape[1]\n",
        "    \n",
        "    # Ajusta o shape de Y\n",
        "    Y = Y.reshape(AL.shape)\n",
        "    \n",
        "    # Calcula a derivada da previsão final da rede(ForwardPropagation) e em seguida recupera o valor atual do cache\n",
        "    dAL = -((Y / AL) - ((1 - Y) / (1 - AL)))\n",
        "    current_cache = caches[L - 1]\n",
        "    \n",
        "    # Geração da a lista de gradiente para: dados, pesos e bias\n",
        "    grads[\"dA\" + str(L - 1)], grads[\"dW\" + str(L)], grads[\"db\" + str(L)] = linear_activation_backward(dAL, current_cache, activation = \"sigmoid\")\n",
        "    \n",
        "    # Loop para calculao durante as ativações utilizando a ReLu\n",
        "    for l in reversed(range(L - 1)):\n",
        "        \n",
        "        # Memória atual + Calc de derivadas.\n",
        "        current_cache = caches[l]\n",
        "        dA_prev, dW, db = linear_activation_backward(grads[\"dA\" + str(l + 1)], current_cache, activation = \"relu\")\n",
        "        \n",
        "        # Dá infos para os gradientes, usando o índice relacionado\n",
        "        grads[\"dA\" + str(l)] = dA_prev\n",
        "        grads[\"dW\" + str(l + 1)] = dW\n",
        "        grads[\"db\" + str(l + 1)] = db\n",
        "        \n",
        "    return grads"
      ],
      "execution_count": 14,
      "outputs": []
    },
    {
      "cell_type": "markdown",
      "metadata": {
        "id": "UTQACYgxV1EI",
        "colab_type": "text"
      },
      "source": [
        "### Gradientes e Pesos"
      ]
    },
    {
      "cell_type": "code",
      "metadata": {
        "id": "tFW27QeGV1EJ",
        "colab_type": "code",
        "colab": {}
      },
      "source": [
        "# Atualização de pesos\n",
        "def atualiza_pesos(parameters, grads, learning_rate):\n",
        "    \n",
        "    # Comprimento da estrutura de dados com os parâmetros (pesos e bias)\n",
        "    L = len(parameters)//2\n",
        "    \n",
        "    # Loop para atualização dos pesos\n",
        "    for l in range(L):\n",
        "        \n",
        "        # Atualização dos pesos\n",
        "        parameters[\"W\" + str(l + 1)] = parameters[\"W\" + str(l + 1)] - (learning_rate * grads[\"dW\" + str(l + 1)])\n",
        "        \n",
        "        # Atualização do bias\n",
        "        parameters[\"b\" + str(l + 1)] = parameters[\"b\" + str(l + 1)] - (learning_rate * grads[\"db\" + str(l + 1)])\n",
        "    \n",
        "    return parameters"
      ],
      "execution_count": 15,
      "outputs": []
    },
    {
      "cell_type": "markdown",
      "metadata": {
        "id": "FsteDJQ_V1EN",
        "colab_type": "text"
      },
      "source": [
        "#### Implementação da Rede"
      ]
    },
    {
      "cell_type": "code",
      "metadata": {
        "id": "nEm3FubSV1EO",
        "colab_type": "code",
        "colab": {}
      },
      "source": [
        "# Modelo completo da rede neural\n",
        "def modeloNN(X, Y, dims_camada_entrada, learning_rate = 0.0075, num_iterations = 100):\n",
        "    #Vejam o tamanho do learning_rate. Comentei durante em aula que as taxas são realmente baixas.\n",
        "    \n",
        "    # Lista para receber o custo a cada epoch em train\n",
        "    custos = []\n",
        "    \n",
        "    # Inicializa parâmetros\n",
        "    parametros = inicializa_parametros(dims_camada_entrada)\n",
        "    \n",
        "    # Loop pelo número de iterações (epochs)\n",
        "    for i in range(num_iterations):\n",
        "        \n",
        "        # Forward Propagation\n",
        "        AL, caches = forward_propagation(X, parametros)\n",
        "        \n",
        "        # Calculo do custo\n",
        "        custo = calc_custo(AL, Y)\n",
        "        \n",
        "        # Backward Propagation\n",
        "        gradientes = backward_propagation(AL, Y, caches)\n",
        "        \n",
        "        # Atualização depesos\n",
        "        parametros = atualiza_pesos(parametros, gradientes, learning_rate)\n",
        "        \n",
        "        # Print do valor intermediário do custo, sendo que a redução do custo indica o aprendizado do modelo\n",
        "        if i % 10 == 0:\n",
        "            print(\"Custo Após \" + str(i) + \" iterações é \" + str(custo))\n",
        "            custos.append(custo)\n",
        "            \n",
        "    return parametros, custos "
      ],
      "execution_count": 16,
      "outputs": []
    },
    {
      "cell_type": "code",
      "metadata": {
        "id": "i6JU3UcQV1ER",
        "colab_type": "code",
        "colab": {}
      },
      "source": [
        "# Função para fazer as previsões\n",
        "\n",
        "def predict(X, parametros):\n",
        "    AL, caches = forward_propagation(X, parametros)\n",
        "    return AL\n",
        "\n",
        "# Notem que não há backpropagation, pois conforme as previsões surgem, os valores dos pesos mais aderentes acabam ficando conhecidos."
      ],
      "execution_count": 19,
      "outputs": []
    },
    {
      "cell_type": "code",
      "metadata": {
        "id": "4uChq9aTV1EX",
        "colab_type": "code",
        "colab": {
          "base_uri": "https://localhost:8080/",
          "height": 34
        },
        "outputId": "980edd5d-e731-46d9-c5f0-960ff6110f93"
      },
      "source": [
        "#Para informações do dataset\n",
        "#Carregamos o conjunto\n",
        "\n",
        "cancer = load_breast_cancer()\n",
        "print(type(cancer))"
      ],
      "execution_count": 20,
      "outputs": [
        {
          "output_type": "stream",
          "text": [
            "<class 'sklearn.utils.Bunch'>\n"
          ],
          "name": "stdout"
        }
      ]
    },
    {
      "cell_type": "code",
      "metadata": {
        "id": "fwFE3cFCV1Ed",
        "colab_type": "code",
        "colab": {}
      },
      "source": [
        "cancerDF = pd.DataFrame(columns = load_breast_cancer()[\"feature_names\"], data = load_breast_cancer()[\"data\"])"
      ],
      "execution_count": 21,
      "outputs": []
    },
    {
      "cell_type": "code",
      "metadata": {
        "id": "YajYHqrKV1Ei",
        "colab_type": "code",
        "colab": {
          "base_uri": "https://localhost:8080/",
          "height": 34
        },
        "outputId": "c2725771-ef41-4fda-c373-e68c1c400d40"
      },
      "source": [
        "cancerDF.shape"
      ],
      "execution_count": 22,
      "outputs": [
        {
          "output_type": "execute_result",
          "data": {
            "text/plain": [
              "(569, 30)"
            ]
          },
          "metadata": {
            "tags": []
          },
          "execution_count": 22
        }
      ]
    },
    {
      "cell_type": "code",
      "metadata": {
        "id": "tI1f00psV1El",
        "colab_type": "code",
        "colab": {
          "base_uri": "https://localhost:8080/",
          "height": 258
        },
        "outputId": "534379a2-effb-4b3e-ec90-1bdbcdfa1e4a"
      },
      "source": [
        "cancerDF.head()"
      ],
      "execution_count": 23,
      "outputs": [
        {
          "output_type": "execute_result",
          "data": {
            "text/html": [
              "<div>\n",
              "<style scoped>\n",
              "    .dataframe tbody tr th:only-of-type {\n",
              "        vertical-align: middle;\n",
              "    }\n",
              "\n",
              "    .dataframe tbody tr th {\n",
              "        vertical-align: top;\n",
              "    }\n",
              "\n",
              "    .dataframe thead th {\n",
              "        text-align: right;\n",
              "    }\n",
              "</style>\n",
              "<table border=\"1\" class=\"dataframe\">\n",
              "  <thead>\n",
              "    <tr style=\"text-align: right;\">\n",
              "      <th></th>\n",
              "      <th>mean radius</th>\n",
              "      <th>mean texture</th>\n",
              "      <th>mean perimeter</th>\n",
              "      <th>mean area</th>\n",
              "      <th>mean smoothness</th>\n",
              "      <th>mean compactness</th>\n",
              "      <th>mean concavity</th>\n",
              "      <th>mean concave points</th>\n",
              "      <th>mean symmetry</th>\n",
              "      <th>mean fractal dimension</th>\n",
              "      <th>radius error</th>\n",
              "      <th>texture error</th>\n",
              "      <th>perimeter error</th>\n",
              "      <th>area error</th>\n",
              "      <th>smoothness error</th>\n",
              "      <th>compactness error</th>\n",
              "      <th>concavity error</th>\n",
              "      <th>concave points error</th>\n",
              "      <th>symmetry error</th>\n",
              "      <th>fractal dimension error</th>\n",
              "      <th>worst radius</th>\n",
              "      <th>worst texture</th>\n",
              "      <th>worst perimeter</th>\n",
              "      <th>worst area</th>\n",
              "      <th>worst smoothness</th>\n",
              "      <th>worst compactness</th>\n",
              "      <th>worst concavity</th>\n",
              "      <th>worst concave points</th>\n",
              "      <th>worst symmetry</th>\n",
              "      <th>worst fractal dimension</th>\n",
              "    </tr>\n",
              "  </thead>\n",
              "  <tbody>\n",
              "    <tr>\n",
              "      <th>0</th>\n",
              "      <td>17.99</td>\n",
              "      <td>10.38</td>\n",
              "      <td>122.80</td>\n",
              "      <td>1001.0</td>\n",
              "      <td>0.11840</td>\n",
              "      <td>0.27760</td>\n",
              "      <td>0.3001</td>\n",
              "      <td>0.14710</td>\n",
              "      <td>0.2419</td>\n",
              "      <td>0.07871</td>\n",
              "      <td>1.0950</td>\n",
              "      <td>0.9053</td>\n",
              "      <td>8.589</td>\n",
              "      <td>153.40</td>\n",
              "      <td>0.006399</td>\n",
              "      <td>0.04904</td>\n",
              "      <td>0.05373</td>\n",
              "      <td>0.01587</td>\n",
              "      <td>0.03003</td>\n",
              "      <td>0.006193</td>\n",
              "      <td>25.38</td>\n",
              "      <td>17.33</td>\n",
              "      <td>184.60</td>\n",
              "      <td>2019.0</td>\n",
              "      <td>0.1622</td>\n",
              "      <td>0.6656</td>\n",
              "      <td>0.7119</td>\n",
              "      <td>0.2654</td>\n",
              "      <td>0.4601</td>\n",
              "      <td>0.11890</td>\n",
              "    </tr>\n",
              "    <tr>\n",
              "      <th>1</th>\n",
              "      <td>20.57</td>\n",
              "      <td>17.77</td>\n",
              "      <td>132.90</td>\n",
              "      <td>1326.0</td>\n",
              "      <td>0.08474</td>\n",
              "      <td>0.07864</td>\n",
              "      <td>0.0869</td>\n",
              "      <td>0.07017</td>\n",
              "      <td>0.1812</td>\n",
              "      <td>0.05667</td>\n",
              "      <td>0.5435</td>\n",
              "      <td>0.7339</td>\n",
              "      <td>3.398</td>\n",
              "      <td>74.08</td>\n",
              "      <td>0.005225</td>\n",
              "      <td>0.01308</td>\n",
              "      <td>0.01860</td>\n",
              "      <td>0.01340</td>\n",
              "      <td>0.01389</td>\n",
              "      <td>0.003532</td>\n",
              "      <td>24.99</td>\n",
              "      <td>23.41</td>\n",
              "      <td>158.80</td>\n",
              "      <td>1956.0</td>\n",
              "      <td>0.1238</td>\n",
              "      <td>0.1866</td>\n",
              "      <td>0.2416</td>\n",
              "      <td>0.1860</td>\n",
              "      <td>0.2750</td>\n",
              "      <td>0.08902</td>\n",
              "    </tr>\n",
              "    <tr>\n",
              "      <th>2</th>\n",
              "      <td>19.69</td>\n",
              "      <td>21.25</td>\n",
              "      <td>130.00</td>\n",
              "      <td>1203.0</td>\n",
              "      <td>0.10960</td>\n",
              "      <td>0.15990</td>\n",
              "      <td>0.1974</td>\n",
              "      <td>0.12790</td>\n",
              "      <td>0.2069</td>\n",
              "      <td>0.05999</td>\n",
              "      <td>0.7456</td>\n",
              "      <td>0.7869</td>\n",
              "      <td>4.585</td>\n",
              "      <td>94.03</td>\n",
              "      <td>0.006150</td>\n",
              "      <td>0.04006</td>\n",
              "      <td>0.03832</td>\n",
              "      <td>0.02058</td>\n",
              "      <td>0.02250</td>\n",
              "      <td>0.004571</td>\n",
              "      <td>23.57</td>\n",
              "      <td>25.53</td>\n",
              "      <td>152.50</td>\n",
              "      <td>1709.0</td>\n",
              "      <td>0.1444</td>\n",
              "      <td>0.4245</td>\n",
              "      <td>0.4504</td>\n",
              "      <td>0.2430</td>\n",
              "      <td>0.3613</td>\n",
              "      <td>0.08758</td>\n",
              "    </tr>\n",
              "    <tr>\n",
              "      <th>3</th>\n",
              "      <td>11.42</td>\n",
              "      <td>20.38</td>\n",
              "      <td>77.58</td>\n",
              "      <td>386.1</td>\n",
              "      <td>0.14250</td>\n",
              "      <td>0.28390</td>\n",
              "      <td>0.2414</td>\n",
              "      <td>0.10520</td>\n",
              "      <td>0.2597</td>\n",
              "      <td>0.09744</td>\n",
              "      <td>0.4956</td>\n",
              "      <td>1.1560</td>\n",
              "      <td>3.445</td>\n",
              "      <td>27.23</td>\n",
              "      <td>0.009110</td>\n",
              "      <td>0.07458</td>\n",
              "      <td>0.05661</td>\n",
              "      <td>0.01867</td>\n",
              "      <td>0.05963</td>\n",
              "      <td>0.009208</td>\n",
              "      <td>14.91</td>\n",
              "      <td>26.50</td>\n",
              "      <td>98.87</td>\n",
              "      <td>567.7</td>\n",
              "      <td>0.2098</td>\n",
              "      <td>0.8663</td>\n",
              "      <td>0.6869</td>\n",
              "      <td>0.2575</td>\n",
              "      <td>0.6638</td>\n",
              "      <td>0.17300</td>\n",
              "    </tr>\n",
              "    <tr>\n",
              "      <th>4</th>\n",
              "      <td>20.29</td>\n",
              "      <td>14.34</td>\n",
              "      <td>135.10</td>\n",
              "      <td>1297.0</td>\n",
              "      <td>0.10030</td>\n",
              "      <td>0.13280</td>\n",
              "      <td>0.1980</td>\n",
              "      <td>0.10430</td>\n",
              "      <td>0.1809</td>\n",
              "      <td>0.05883</td>\n",
              "      <td>0.7572</td>\n",
              "      <td>0.7813</td>\n",
              "      <td>5.438</td>\n",
              "      <td>94.44</td>\n",
              "      <td>0.011490</td>\n",
              "      <td>0.02461</td>\n",
              "      <td>0.05688</td>\n",
              "      <td>0.01885</td>\n",
              "      <td>0.01756</td>\n",
              "      <td>0.005115</td>\n",
              "      <td>22.54</td>\n",
              "      <td>16.67</td>\n",
              "      <td>152.20</td>\n",
              "      <td>1575.0</td>\n",
              "      <td>0.1374</td>\n",
              "      <td>0.2050</td>\n",
              "      <td>0.4000</td>\n",
              "      <td>0.1625</td>\n",
              "      <td>0.2364</td>\n",
              "      <td>0.07678</td>\n",
              "    </tr>\n",
              "  </tbody>\n",
              "</table>\n",
              "</div>"
            ],
            "text/plain": [
              "   mean radius  mean texture  ...  worst symmetry  worst fractal dimension\n",
              "0        17.99         10.38  ...          0.4601                  0.11890\n",
              "1        20.57         17.77  ...          0.2750                  0.08902\n",
              "2        19.69         21.25  ...          0.3613                  0.08758\n",
              "3        11.42         20.38  ...          0.6638                  0.17300\n",
              "4        20.29         14.34  ...          0.2364                  0.07678\n",
              "\n",
              "[5 rows x 30 columns]"
            ]
          },
          "metadata": {
            "tags": []
          },
          "execution_count": 23
        }
      ]
    },
    {
      "cell_type": "code",
      "metadata": {
        "id": "66qb3EfpV1Eo",
        "colab_type": "code",
        "colab": {}
      },
      "source": [
        "#identificamos e separamos nosso target\n",
        "target = load_breast_cancer()[\"target\"]"
      ],
      "execution_count": 24,
      "outputs": []
    },
    {
      "cell_type": "code",
      "metadata": {
        "id": "Pv_0YLNZV1Eu",
        "colab_type": "code",
        "colab": {
          "base_uri": "https://localhost:8080/",
          "height": 34
        },
        "outputId": "8dccc6aa-15bb-47fc-a7c5-dc4cdfcf6320"
      },
      "source": [
        "type(target)"
      ],
      "execution_count": 25,
      "outputs": [
        {
          "output_type": "execute_result",
          "data": {
            "text/plain": [
              "numpy.ndarray"
            ]
          },
          "metadata": {
            "tags": []
          },
          "execution_count": 25
        }
      ]
    },
    {
      "cell_type": "code",
      "metadata": {
        "id": "28gV-Ir4V1Ez",
        "colab_type": "code",
        "colab": {
          "base_uri": "https://localhost:8080/",
          "height": 459
        },
        "outputId": "3c80235a-9112-48c4-8a7f-200da4d1b247"
      },
      "source": [
        "target"
      ],
      "execution_count": 26,
      "outputs": [
        {
          "output_type": "execute_result",
          "data": {
            "text/plain": [
              "array([0, 0, 0, 0, 0, 0, 0, 0, 0, 0, 0, 0, 0, 0, 0, 0, 0, 0, 0, 1, 1, 1,\n",
              "       0, 0, 0, 0, 0, 0, 0, 0, 0, 0, 0, 0, 0, 0, 0, 1, 0, 0, 0, 0, 0, 0,\n",
              "       0, 0, 1, 0, 1, 1, 1, 1, 1, 0, 0, 1, 0, 0, 1, 1, 1, 1, 0, 1, 0, 0,\n",
              "       1, 1, 1, 1, 0, 1, 0, 0, 1, 0, 1, 0, 0, 1, 1, 1, 0, 0, 1, 0, 0, 0,\n",
              "       1, 1, 1, 0, 1, 1, 0, 0, 1, 1, 1, 0, 0, 1, 1, 1, 1, 0, 1, 1, 0, 1,\n",
              "       1, 1, 1, 1, 1, 1, 1, 0, 0, 0, 1, 0, 0, 1, 1, 1, 0, 0, 1, 0, 1, 0,\n",
              "       0, 1, 0, 0, 1, 1, 0, 1, 1, 0, 1, 1, 1, 1, 0, 1, 1, 1, 1, 1, 1, 1,\n",
              "       1, 1, 0, 1, 1, 1, 1, 0, 0, 1, 0, 1, 1, 0, 0, 1, 1, 0, 0, 1, 1, 1,\n",
              "       1, 0, 1, 1, 0, 0, 0, 1, 0, 1, 0, 1, 1, 1, 0, 1, 1, 0, 0, 1, 0, 0,\n",
              "       0, 0, 1, 0, 0, 0, 1, 0, 1, 0, 1, 1, 0, 1, 0, 0, 0, 0, 1, 1, 0, 0,\n",
              "       1, 1, 1, 0, 1, 1, 1, 1, 1, 0, 0, 1, 1, 0, 1, 1, 0, 0, 1, 0, 1, 1,\n",
              "       1, 1, 0, 1, 1, 1, 1, 1, 0, 1, 0, 0, 0, 0, 0, 0, 0, 0, 0, 0, 0, 0,\n",
              "       0, 0, 1, 1, 1, 1, 1, 1, 0, 1, 0, 1, 1, 0, 1, 1, 0, 1, 0, 0, 1, 1,\n",
              "       1, 1, 1, 1, 1, 1, 1, 1, 1, 1, 1, 0, 1, 1, 0, 1, 0, 1, 1, 1, 1, 1,\n",
              "       1, 1, 1, 1, 1, 1, 1, 1, 1, 0, 1, 1, 1, 0, 1, 0, 1, 1, 1, 1, 0, 0,\n",
              "       0, 1, 1, 1, 1, 0, 1, 0, 1, 0, 1, 1, 1, 0, 1, 1, 1, 1, 1, 1, 1, 0,\n",
              "       0, 0, 1, 1, 1, 1, 1, 1, 1, 1, 1, 1, 1, 0, 0, 1, 0, 0, 0, 1, 0, 0,\n",
              "       1, 1, 1, 1, 1, 0, 1, 1, 1, 1, 1, 0, 1, 1, 1, 0, 1, 1, 0, 0, 1, 1,\n",
              "       1, 1, 1, 1, 0, 1, 1, 1, 1, 1, 1, 1, 0, 1, 1, 1, 1, 1, 0, 1, 1, 0,\n",
              "       1, 1, 1, 1, 1, 1, 1, 1, 1, 1, 1, 1, 0, 1, 0, 0, 1, 0, 1, 1, 1, 1,\n",
              "       1, 0, 1, 1, 0, 1, 0, 1, 1, 0, 1, 0, 1, 1, 1, 1, 1, 1, 1, 1, 0, 0,\n",
              "       1, 1, 1, 1, 1, 1, 0, 1, 1, 1, 1, 1, 1, 1, 1, 1, 1, 0, 1, 1, 1, 1,\n",
              "       1, 1, 1, 0, 1, 0, 1, 1, 0, 1, 1, 1, 1, 1, 0, 0, 1, 0, 1, 0, 1, 1,\n",
              "       1, 1, 1, 0, 1, 1, 0, 1, 0, 1, 0, 0, 1, 1, 1, 0, 1, 1, 1, 1, 1, 1,\n",
              "       1, 1, 1, 1, 1, 0, 1, 0, 0, 1, 1, 1, 1, 1, 1, 1, 1, 1, 1, 1, 1, 1,\n",
              "       1, 1, 1, 1, 1, 1, 1, 1, 1, 1, 1, 1, 0, 0, 0, 0, 0, 0, 1])"
            ]
          },
          "metadata": {
            "tags": []
          },
          "execution_count": 26
        }
      ]
    },
    {
      "cell_type": "code",
      "metadata": {
        "id": "_nzRbLaiV1E5",
        "colab_type": "code",
        "colab": {
          "base_uri": "https://localhost:8080/",
          "height": 68
        },
        "outputId": "00e174f3-943e-414f-dd18-bc99bc95b0ef"
      },
      "source": [
        "print(\"Total da classe do tipo Benigno\", np.count_nonzero(target == 1))\n",
        "print(\"=\"*15)\n",
        "print(\"Total da classe do tipo Maligno\", np.count_nonzero(target == 0))"
      ],
      "execution_count": 27,
      "outputs": [
        {
          "output_type": "stream",
          "text": [
            "Total da classe do tipo Benigno 357\n",
            "===============\n",
            "Total da classe do tipo Maligno 212\n"
          ],
          "name": "stdout"
        }
      ]
    },
    {
      "cell_type": "code",
      "metadata": {
        "id": "3v4grcN2V1E9",
        "colab_type": "code",
        "colab": {}
      },
      "source": [
        "#Dicionário para os labels\n",
        "labels = {}\n",
        "\n",
        "#Nomes das classes da variável target\n",
        "target_names = load_breast_cancer()[\"target_names\"]\n",
        "\n",
        "for i in range(len(target_names)):\n",
        "    labels.update({i:target_names[i]})"
      ],
      "execution_count": 28,
      "outputs": []
    },
    {
      "cell_type": "code",
      "metadata": {
        "id": "KssgypdyV1FA",
        "colab_type": "code",
        "colab": {
          "base_uri": "https://localhost:8080/",
          "height": 34
        },
        "outputId": "7fa6b35d-ffcd-4401-cd27-a4a975d13fc8"
      },
      "source": [
        "labels"
      ],
      "execution_count": 29,
      "outputs": [
        {
          "output_type": "execute_result",
          "data": {
            "text/plain": [
              "{0: 'malignant', 1: 'benign'}"
            ]
          },
          "metadata": {
            "tags": []
          },
          "execution_count": 29
        }
      ]
    },
    {
      "cell_type": "code",
      "metadata": {
        "id": "ZZzNH82qV1FD",
        "colab_type": "code",
        "colab": {}
      },
      "source": [
        "#Entregamos as variáveis preditoras para X\n",
        "X = np.array(cancerDF)"
      ],
      "execution_count": 30,
      "outputs": []
    },
    {
      "cell_type": "code",
      "metadata": {
        "id": "xj8PVNT2V1FF",
        "colab_type": "code",
        "colab": {}
      },
      "source": [
        "#Divisão de dados de entrada e saída em treino e teste\n",
        "X_treino, X_teste, y_treino, y_teste = train_test_split(X, target, test_size = 0.2, shuffle = True)"
      ],
      "execution_count": 31,
      "outputs": []
    },
    {
      "cell_type": "code",
      "metadata": {
        "id": "evMQI0yoV1FJ",
        "colab_type": "code",
        "colab": {
          "base_uri": "https://localhost:8080/",
          "height": 136
        },
        "outputId": "d8b42f1e-d734-46bb-d7f5-26555e1d88f6"
      },
      "source": [
        "#Verificação de estados dos nossos dados X,y (Treino)\n",
        "print(\"Dados de Treino\")\n",
        "print(X_treino.shape)\n",
        "print(y_treino.shape)\n",
        "print(\"=\"*20)\n",
        "print(\"Dados de Teste\")\n",
        "print(X_teste.shape)\n",
        "print(y_teste.shape)"
      ],
      "execution_count": 32,
      "outputs": [
        {
          "output_type": "stream",
          "text": [
            "Dados de Treino\n",
            "(455, 30)\n",
            "(455,)\n",
            "====================\n",
            "Dados de Teste\n",
            "(114, 30)\n",
            "(114,)\n"
          ],
          "name": "stdout"
        }
      ]
    },
    {
      "cell_type": "code",
      "metadata": {
        "id": "m4KWUHXqV1FO",
        "colab_type": "code",
        "colab": {}
      },
      "source": [
        "#Ajuste nos dados de entrada\n",
        "\n",
        "X_treino = X_treino.T\n",
        "X_teste = X_teste.T\n",
        "\n",
        "#Ajuste nos dados de saída\n",
        "y_treino = y_treino.reshape(1,len(y_treino))\n",
        "y_teste = y_teste.reshape(1,len(y_teste))"
      ],
      "execution_count": 33,
      "outputs": []
    },
    {
      "cell_type": "code",
      "metadata": {
        "id": "S6CYh5T7V1FV",
        "colab_type": "code",
        "colab": {}
      },
      "source": [
        "#Dimensões de entrada com número de neurônips\n",
        "dims_camada_entrada = [X_treino.shape[0], 50, 20, 5, 1]"
      ],
      "execution_count": 34,
      "outputs": []
    },
    {
      "cell_type": "code",
      "metadata": {
        "id": "YF5BUHHkV1FY",
        "colab_type": "code",
        "colab": {
          "base_uri": "https://localhost:8080/",
          "height": 1000
        },
        "outputId": "8a3b405c-9a52-4494-9329-d1c6cd3716c2"
      },
      "source": [
        "iniProc = time.time()\n",
        "parametros, custo = modeloNN(X = X_treino,\n",
        "                             Y = y_treino,\n",
        "                             dims_camada_entrada = dims_camada_entrada,\n",
        "                            num_iterations = 3000,\n",
        "                            learning_rate = 0.0075)\n",
        "print(\"Treinamento durou %2.f segundos \" % (time.time() - iniProc))"
      ],
      "execution_count": 35,
      "outputs": [
        {
          "output_type": "stream",
          "text": [
            "Custo Após 0 iterações é 0.6931635700441897\n",
            "Custo Após 10 iterações é 0.69228734468398\n",
            "Custo Após 20 iterações é 0.6914429975941695\n",
            "Custo Após 30 iterações é 0.6906293257012693\n",
            "Custo Após 40 iterações é 0.6898451638142956\n",
            "Custo Após 50 iterações é 0.6890893869008248\n",
            "Custo Após 60 iterações é 0.6883609046169807\n",
            "Custo Após 70 iterações é 0.6876586582988348\n",
            "Custo Após 80 iterações é 0.6869816213214367\n",
            "Custo Após 90 iterações é 0.6863287991923764\n",
            "Custo Após 100 iterações é 0.6856992163615327\n",
            "Custo Após 110 iterações é 0.6850919277724354\n",
            "Custo Após 120 iterações é 0.6845064422368082\n",
            "Custo Após 130 iterações é 0.6839418735458312\n",
            "Custo Após 140 iterações é 0.6833970672972579\n",
            "Custo Após 150 iterações é 0.6828711845095171\n",
            "Custo Após 160 iterações é 0.6823633603265715\n",
            "Custo Após 170 iterações é 0.681872746877017\n",
            "Custo Após 180 iterações é 0.6813984977009561\n",
            "Custo Após 190 iterações é 0.6809397373356397\n",
            "Custo Após 200 iterações é 0.6804955696828094\n",
            "Custo Após 210 iterações é 0.6800650907554822\n",
            "Custo Após 220 iterações é 0.6796473678724054\n",
            "Custo Após 230 iterações é 0.679241612552646\n",
            "Custo Após 240 iterações é 0.6788470660506184\n",
            "Custo Após 250 iterações é 0.67846286586329\n",
            "Custo Após 260 iterações é 0.6780878461927612\n",
            "Custo Após 270 iterações é 0.6777208470281498\n",
            "Custo Após 280 iterações é 0.6773604286298083\n",
            "Custo Após 290 iterações é 0.6770048991059996\n",
            "Custo Após 300 iterações é 0.6766524788580542\n",
            "Custo Após 310 iterações é 0.6763010326735222\n",
            "Custo Após 320 iterações é 0.6759477986538733\n",
            "Custo Após 330 iterações é 0.6755893204255067\n",
            "Custo Após 340 iterações é 0.6752217658305416\n",
            "Custo Após 350 iterações é 0.6748392385546664\n",
            "Custo Após 360 iterações é 0.6744346466527055\n",
            "Custo Após 370 iterações é 0.6739984878136895\n",
            "Custo Após 380 iterações é 0.6735147757879202\n",
            "Custo Após 390 iterações é 0.6729619921930798\n",
            "Custo Após 400 iterações é 0.6723080523410716\n",
            "Custo Após 410 iterações é 0.6715033154410057\n",
            "Custo Após 420 iterações é 0.6704679891696369\n",
            "Custo Após 430 iterações é 0.6690720042885174\n",
            "Custo Após 440 iterações é 0.6670989852891052\n",
            "Custo Após 450 iterações é 0.66416282286836\n",
            "Custo Após 460 iterações é 0.6595988197182018\n",
            "Custo Após 470 iterações é 0.6524404126633682\n",
            "Custo Após 480 iterações é 0.6423265999955314\n",
            "Custo Após 490 iterações é 0.6319278050421012\n",
            "Custo Após 500 iterações é 0.6254587738254186\n",
            "Custo Após 510 iterações é 0.6219569891173036\n",
            "Custo Após 520 iterações é 0.6192124626387688\n",
            "Custo Após 530 iterações é 0.6165444556548928\n",
            "Custo Após 540 iterações é 0.6138713203184416\n",
            "Custo Após 550 iterações é 0.6111827831616846\n",
            "Custo Após 560 iterações é 0.6084744143961127\n",
            "Custo Após 570 iterações é 0.6057414709248103\n",
            "Custo Após 580 iterações é 0.6029784610285268\n",
            "Custo Após 590 iterações é 0.6001787785296319\n",
            "Custo Após 600 iterações é 0.5973347077022466\n",
            "Custo Após 610 iterações é 0.5944366650836953\n",
            "Custo Após 620 iterações é 0.5914728773861601\n",
            "Custo Após 630 iterações é 0.5884286603653899\n",
            "Custo Após 640 iterações é 0.5852867964490117\n",
            "Custo Após 650 iterações é 0.5820224635360556\n",
            "Custo Após 660 iterações é 0.5786043685514813\n",
            "Custo Após 670 iterações é 0.5749913842331995\n",
            "Custo Após 680 iterações é 0.5711279443520985\n",
            "Custo Após 690 iterações é 0.5669380006160001\n",
            "Custo Após 700 iterações é 0.5623159328778043\n",
            "Custo Após 710 iterações é 0.5571127812103419\n",
            "Custo Após 720 iterações é 0.5511167311858006\n",
            "Custo Após 730 iterações é 0.5440234428733081\n",
            "Custo Após 740 iterações é 0.5353862719781155\n",
            "Custo Após 750 iterações é 0.5247532576941677\n",
            "Custo Após 760 iterações é 0.5115883765468381\n",
            "Custo Após 770 iterações é 0.4952216318495699\n",
            "Custo Após 780 iterações é 0.47633051071752125\n",
            "Custo Após 790 iterações é 0.45549803644886167\n",
            "Custo Após 800 iterações é 0.4368886680338233\n",
            "Custo Após 810 iterações é 0.49430468075443534\n",
            "Custo Após 820 iterações é 0.4704525378870301\n",
            "Custo Após 830 iterações é 0.46135518140837783\n",
            "Custo Após 840 iterações é 0.4550174353709811\n",
            "Custo Após 850 iterações é 0.4457833420593368\n",
            "Custo Após 860 iterações é 0.43747454455520574\n",
            "Custo Após 870 iterações é 0.42954690842268195\n",
            "Custo Após 880 iterações é 0.4232754248041338\n",
            "Custo Após 890 iterações é 0.417072320215956\n",
            "Custo Após 900 iterações é 0.41198825858713156\n",
            "Custo Após 910 iterações é 0.4077733754088139\n",
            "Custo Após 920 iterações é 0.40198784962443335\n",
            "Custo Após 930 iterações é 0.3941567656486072\n",
            "Custo Após 940 iterações é 0.39048340173765167\n",
            "Custo Após 950 iterações é 0.3858981489234738\n",
            "Custo Após 960 iterações é 0.38274963687371494\n",
            "Custo Após 970 iterações é 0.3794621868726772\n",
            "Custo Após 980 iterações é 0.37565731855763623\n",
            "Custo Após 990 iterações é 0.3727473907835422\n",
            "Custo Após 1000 iterações é 0.3672332345016335\n",
            "Custo Após 1010 iterações é 0.36620811558269756\n",
            "Custo Após 1020 iterações é 0.36403819923841757\n",
            "Custo Após 1030 iterações é 0.3617227036527227\n",
            "Custo Após 1040 iterações é 0.3602161837115324\n",
            "Custo Após 1050 iterações é 0.3570132697025743\n",
            "Custo Após 1060 iterações é 0.3558998060541943\n",
            "Custo Após 1070 iterações é 0.3540525943841339\n",
            "Custo Após 1080 iterações é 0.35181765863688885\n",
            "Custo Após 1090 iterações é 0.3507627347119202\n",
            "Custo Após 1100 iterações é 0.3472241924757721\n",
            "Custo Após 1110 iterações é 0.3411338856743145\n",
            "Custo Após 1120 iterações é 0.33689503050999403\n",
            "Custo Após 1130 iterações é 0.3395118954108364\n",
            "Custo Após 1140 iterações é 0.3409236225937765\n",
            "Custo Após 1150 iterações é 0.3396716430203534\n",
            "Custo Após 1160 iterações é 0.33336814109317275\n",
            "Custo Após 1170 iterações é 0.3269761936083953\n",
            "Custo Após 1180 iterações é 0.3294109709265961\n",
            "Custo Após 1190 iterações é 0.32695052032375804\n",
            "Custo Após 1200 iterações é 0.3258817007193473\n",
            "Custo Após 1210 iterações é 0.323954719331441\n",
            "Custo Após 1220 iterações é 0.32214780249888403\n",
            "Custo Após 1230 iterações é 0.32127487115181635\n",
            "Custo Após 1240 iterações é 0.3188639162163666\n",
            "Custo Após 1250 iterações é 0.3178117541759377\n",
            "Custo Após 1260 iterações é 0.319980425455046\n",
            "Custo Após 1270 iterações é 0.3129639848642791\n",
            "Custo Após 1280 iterações é 0.31631661505261194\n",
            "Custo Após 1290 iterações é 0.3167904754058206\n",
            "Custo Após 1300 iterações é 0.3120466293976487\n",
            "Custo Após 1310 iterações é 0.3129502319201777\n",
            "Custo Após 1320 iterações é 0.3110437982491937\n",
            "Custo Após 1330 iterações é 0.31172371241268215\n",
            "Custo Após 1340 iterações é 0.31063937105960293\n",
            "Custo Após 1350 iterações é 0.3094450854767259\n",
            "Custo Após 1360 iterações é 0.30677324999318173\n",
            "Custo Após 1370 iterações é 0.3064231921567689\n",
            "Custo Após 1380 iterações é 0.3063576089361227\n",
            "Custo Após 1390 iterações é 0.3046491110076692\n",
            "Custo Após 1400 iterações é 0.3043338401095699\n",
            "Custo Após 1410 iterações é 0.3027740676150229\n",
            "Custo Após 1420 iterações é 0.29963168777446864\n",
            "Custo Após 1430 iterações é 0.2906581132550885\n",
            "Custo Após 1440 iterações é 0.28934367796373556\n",
            "Custo Após 1450 iterações é 0.29215666909812577\n",
            "Custo Após 1460 iterações é 0.2894039031270461\n",
            "Custo Após 1470 iterações é 0.2888362356004671\n",
            "Custo Após 1480 iterações é 0.28792382122986915\n",
            "Custo Após 1490 iterações é 0.2869119651317541\n",
            "Custo Após 1500 iterações é 0.28671932128664607\n",
            "Custo Após 1510 iterações é 0.28630407541018854\n",
            "Custo Após 1520 iterações é 0.2851168416210491\n",
            "Custo Após 1530 iterações é 0.28420595617135747\n",
            "Custo Após 1540 iterações é 0.2839586400325056\n",
            "Custo Após 1550 iterações é 0.2844327457781974\n",
            "Custo Após 1560 iterações é 0.30149061129934157\n",
            "Custo Após 1570 iterações é 0.29592233110004246\n",
            "Custo Após 1580 iterações é 0.2941003745829511\n",
            "Custo Após 1590 iterações é 0.2877510265726573\n",
            "Custo Após 1600 iterações é 0.277246315620021\n",
            "Custo Após 1610 iterações é 0.2782228887462722\n",
            "Custo Após 1620 iterações é 0.277673793307297\n",
            "Custo Após 1630 iterações é 0.2767697229626929\n",
            "Custo Após 1640 iterações é 0.2761562641378381\n",
            "Custo Após 1650 iterações é 0.2751324602485163\n",
            "Custo Após 1660 iterações é 0.2744040117637133\n",
            "Custo Após 1670 iterações é 0.27366725265786995\n",
            "Custo Após 1680 iterações é 0.27415501140252235\n",
            "Custo Após 1690 iterações é 0.2736132968151647\n",
            "Custo Após 1700 iterações é 0.2720870709942625\n",
            "Custo Após 1710 iterações é 0.2728973975907762\n",
            "Custo Após 1720 iterações é 0.27205952184891324\n",
            "Custo Após 1730 iterações é 0.2721176299335482\n",
            "Custo Após 1740 iterações é 0.2739473252860864\n",
            "Custo Após 1750 iterações é 0.27058647539385716\n",
            "Custo Após 1760 iterações é 0.2710498787109967\n",
            "Custo Após 1770 iterações é 0.2685462988628985\n",
            "Custo Após 1780 iterações é 0.2694360194345875\n",
            "Custo Após 1790 iterações é 0.27002783904466104\n",
            "Custo Após 1800 iterações é 0.26800788108387025\n",
            "Custo Após 1810 iterações é 0.2664640003476041\n",
            "Custo Após 1820 iterações é 0.26615444716991454\n",
            "Custo Após 1830 iterações é 0.2682909566908223\n",
            "Custo Após 1840 iterações é 0.2676234900974388\n",
            "Custo Após 1850 iterações é 0.26668296510399764\n",
            "Custo Após 1860 iterações é 0.2642957939698643\n",
            "Custo Após 1870 iterações é 0.26357316563893796\n",
            "Custo Após 1880 iterações é 0.26328794691600044\n",
            "Custo Após 1890 iterações é 0.262852454029654\n",
            "Custo Após 1900 iterações é 0.2651036195672597\n",
            "Custo Após 1910 iterações é 0.26524687347285725\n",
            "Custo Após 1920 iterações é 0.2615943286170396\n",
            "Custo Após 1930 iterações é 0.26200209190640367\n",
            "Custo Após 1940 iterações é 0.26051054766526494\n",
            "Custo Após 1950 iterações é 0.26104398476362917\n",
            "Custo Após 1960 iterações é 0.26087870647825595\n",
            "Custo Após 1970 iterações é 0.2608558354882237\n",
            "Custo Após 1980 iterações é 0.2596854589982037\n",
            "Custo Após 1990 iterações é 0.25948541920999374\n",
            "Custo Após 2000 iterações é 0.25905745764849464\n",
            "Custo Após 2010 iterações é 0.25962961544220636\n",
            "Custo Após 2020 iterações é 0.25808547177330765\n",
            "Custo Após 2030 iterações é 0.25713174973961034\n",
            "Custo Após 2040 iterações é 0.25794887294506696\n",
            "Custo Após 2050 iterações é 0.2576446467736705\n",
            "Custo Após 2060 iterações é 0.2572300534143113\n",
            "Custo Após 2070 iterações é 0.2562902673583572\n",
            "Custo Após 2080 iterações é 0.25716381076261513\n",
            "Custo Após 2090 iterações é 0.2583311083856693\n",
            "Custo Após 2100 iterações é 0.2568462407068178\n",
            "Custo Após 2110 iterações é 0.2580264083644237\n",
            "Custo Após 2120 iterações é 0.25440300571414465\n",
            "Custo Após 2130 iterações é 0.2489837752117206\n",
            "Custo Após 2140 iterações é 0.25479632488698245\n",
            "Custo Após 2150 iterações é 0.2504104685872244\n",
            "Custo Após 2160 iterações é 0.2495992716035489\n",
            "Custo Após 2170 iterações é 0.2546329601097907\n",
            "Custo Após 2180 iterações é 0.25174546259765934\n",
            "Custo Após 2190 iterações é 0.24891301422985332\n",
            "Custo Após 2200 iterações é 0.2509799244404635\n",
            "Custo Após 2210 iterações é 0.2481052670794567\n",
            "Custo Após 2220 iterações é 0.25353835253257234\n",
            "Custo Após 2230 iterações é 0.2529139206732508\n",
            "Custo Após 2240 iterações é 0.2519621271961307\n",
            "Custo Após 2250 iterações é 0.25019874545538434\n",
            "Custo Após 2260 iterações é 0.24663665943448923\n",
            "Custo Após 2270 iterações é 0.2395085134066689\n",
            "Custo Após 2280 iterações é 0.2514483554220495\n",
            "Custo Após 2290 iterações é 0.24166217598918976\n",
            "Custo Após 2300 iterações é 0.2417654428022744\n",
            "Custo Após 2310 iterações é 0.25053261307293995\n",
            "Custo Após 2320 iterações é 0.24654910537310287\n",
            "Custo Após 2330 iterações é 0.24474794375856632\n",
            "Custo Após 2340 iterações é 0.23826578545711571\n",
            "Custo Após 2350 iterações é 0.24046462152967535\n",
            "Custo Após 2360 iterações é 0.2487629353337082\n",
            "Custo Após 2370 iterações é 0.24626545831560645\n",
            "Custo Após 2380 iterações é 0.2382451854153533\n",
            "Custo Após 2390 iterações é 0.2369319638326135\n",
            "Custo Após 2400 iterações é 0.2452410504909696\n",
            "Custo Após 2410 iterações é 0.24366393754156587\n",
            "Custo Após 2420 iterações é 0.23511543573910074\n",
            "Custo Após 2430 iterações é 0.23696718822519836\n",
            "Custo Após 2440 iterações é 0.24745139697032398\n",
            "Custo Após 2450 iterações é 0.2439615208432258\n",
            "Custo Após 2460 iterações é 0.23939632056291715\n",
            "Custo Após 2470 iterações é 0.2320635029998894\n",
            "Custo Após 2480 iterações é 0.24208606648122905\n",
            "Custo Após 2490 iterações é 0.24190648047593757\n",
            "Custo Após 2500 iterações é 0.23680143100584483\n",
            "Custo Após 2510 iterações é 0.23134649960267495\n",
            "Custo Após 2520 iterações é 0.24174609064654531\n",
            "Custo Após 2530 iterações é 0.23901268027554307\n",
            "Custo Após 2540 iterações é 0.23390708846486677\n",
            "Custo Após 2550 iterações é 0.23007395885808157\n",
            "Custo Após 2560 iterações é 0.2362516721321596\n",
            "Custo Após 2570 iterações é 0.2412308165073384\n",
            "Custo Após 2580 iterações é 0.23843803611888906\n",
            "Custo Após 2590 iterações é 0.23200790517648667\n",
            "Custo Após 2600 iterações é 0.22709265848189128\n",
            "Custo Após 2610 iterações é 0.22942789442790504\n",
            "Custo Após 2620 iterações é 0.2430217251645418\n",
            "Custo Após 2630 iterações é 0.2383043901796732\n",
            "Custo Após 2640 iterações é 0.23739903000751134\n",
            "Custo Após 2650 iterações é 0.23326271638712304\n",
            "Custo Após 2660 iterações é 0.2320978338316054\n",
            "Custo Após 2670 iterações é 0.22680959925874633\n",
            "Custo Após 2680 iterações é 0.23053756013208512\n",
            "Custo Após 2690 iterações é 0.23624883918029208\n",
            "Custo Após 2700 iterações é 0.23045421724057313\n",
            "Custo Após 2710 iterações é 0.22449904526579303\n",
            "Custo Após 2720 iterações é 0.22955676046035633\n",
            "Custo Após 2730 iterações é 0.2324756297686813\n",
            "Custo Após 2740 iterações é 0.22972812138544046\n",
            "Custo Após 2750 iterações é 0.22645600898961227\n",
            "Custo Após 2760 iterações é 0.226577426702305\n",
            "Custo Após 2770 iterações é 0.23097610243283934\n",
            "Custo Após 2780 iterações é 0.2286319356654214\n",
            "Custo Após 2790 iterações é 0.22483942205815594\n",
            "Custo Após 2800 iterações é 0.22266854858045454\n",
            "Custo Após 2810 iterações é 0.2260792925455122\n",
            "Custo Após 2820 iterações é 0.23035474858797042\n",
            "Custo Após 2830 iterações é 0.2291470189166185\n",
            "Custo Após 2840 iterações é 0.2229529393038758\n",
            "Custo Após 2850 iterações é 0.2207090272806601\n",
            "Custo Após 2860 iterações é 0.22719501697261332\n",
            "Custo Após 2870 iterações é 0.2298263470486235\n",
            "Custo Após 2880 iterações é 0.22862852583278717\n",
            "Custo Após 2890 iterações é 0.2269618707832294\n",
            "Custo Após 2900 iterações é 0.22725889851977732\n",
            "Custo Após 2910 iterações é 0.22713628057338567\n",
            "Custo Após 2920 iterações é 0.2237726104013401\n",
            "Custo Após 2930 iterações é 0.22791398072542982\n",
            "Custo Após 2940 iterações é 0.22197565907957267\n",
            "Custo Após 2950 iterações é 0.21679649034321566\n",
            "Custo Após 2960 iterações é 0.22359154907514645\n",
            "Custo Após 2970 iterações é 0.22241892801810836\n",
            "Custo Após 2980 iterações é 0.22410000918712883\n",
            "Custo Após 2990 iterações é 0.22319275462112656\n",
            "Treinamento durou  6 segundos \n"
          ],
          "name": "stdout"
        }
      ]
    },
    {
      "cell_type": "code",
      "metadata": {
        "id": "BwL2Z_8eV1Fb",
        "colab_type": "code",
        "colab": {
          "base_uri": "https://localhost:8080/",
          "height": 837
        },
        "outputId": "0515216e-a933-4e72-9f45-6929d64ec23e"
      },
      "source": [
        "import seaborn as sns\n",
        "#Plot do erro no treinamento\n",
        "sns.set(rc={\"figure.figsize\":(25,15)});\n",
        "plt.plot(custo)\n",
        "plt.title(\"Erros em Treinamento\")"
      ],
      "execution_count": 36,
      "outputs": [
        {
          "output_type": "stream",
          "text": [
            "/usr/local/lib/python3.6/dist-packages/statsmodels/tools/_testing.py:19: FutureWarning: pandas.util.testing is deprecated. Use the functions in the public API at pandas.testing instead.\n",
            "  import pandas.util.testing as tm\n"
          ],
          "name": "stderr"
        },
        {
          "output_type": "execute_result",
          "data": {
            "text/plain": [
              "Text(0.5, 1.0, 'Erros em Treinamento')"
            ]
          },
          "metadata": {
            "tags": []
          },
          "execution_count": 36
        },
        {
          "output_type": "display_data",
          "data": {
            "image/png": "[encoded data removed]",
            "text/plain": [
              "<Figure size 1800x1080 with 1 Axes>"
            ]
          },
          "metadata": {
            "tags": []
          }
        }
      ]
    },
    {
      "cell_type": "code",
      "metadata": {
        "id": "GoYgtX-WV1Fe",
        "colab_type": "code",
        "colab": {}
      },
      "source": [
        "#Previsões em treino\n",
        "y_pred_treino = predict(X_treino, parametros)"
      ],
      "execution_count": 37,
      "outputs": []
    },
    {
      "cell_type": "code",
      "metadata": {
        "id": "JHqk32CFV1Fi",
        "colab_type": "code",
        "colab": {
          "base_uri": "https://localhost:8080/",
          "height": 1000
        },
        "outputId": "610df449-1650-4ef5-b14e-c75b261fc6c8"
      },
      "source": [
        "#Visualização das previsões\n",
        "y_pred_treino"
      ],
      "execution_count": 38,
      "outputs": [
        {
          "output_type": "execute_result",
          "data": {
            "text/plain": [
              "array([[7.13005233e-05, 2.34458041e-01, 4.67565864e-10, 8.80667809e-01,\n",
              "        4.06785928e-01, 3.87895022e-01, 1.47614781e-02, 8.49899468e-01,\n",
              "        6.88856284e-01, 8.14836289e-01, 8.31417646e-09, 1.84876921e-01,\n",
              "        8.28165654e-01, 8.80667474e-01, 8.72287508e-01, 1.74378452e-13,\n",
              "        8.60329441e-01, 8.80668054e-01, 8.02001719e-01, 8.80668106e-01,\n",
              "        1.17616829e-04, 8.80667383e-01, 8.30654165e-01, 8.80668071e-01,\n",
              "        8.75361468e-01, 6.49185112e-02, 4.37286133e-07, 7.26386910e-01,\n",
              "        8.61243819e-01, 8.80668214e-01, 1.49071438e-09, 6.86566342e-01,\n",
              "        8.80667908e-01, 2.86516094e-06, 2.51753818e-09, 1.01258003e-04,\n",
              "        8.80667383e-01, 8.80667798e-01, 8.80667864e-01, 6.73432010e-01,\n",
              "        8.46330353e-01, 1.44520605e-10, 5.53661123e-01, 1.44453955e-01,\n",
              "        9.95314640e-03, 8.80667995e-01, 1.31109916e-03, 8.76199571e-01,\n",
              "        7.77878891e-01, 8.80667968e-01, 8.31989493e-01, 2.10546352e-08,\n",
              "        8.80668073e-01, 8.80667896e-01, 6.28923419e-01, 7.61528256e-01,\n",
              "        1.92422849e-08, 8.80667911e-01, 7.42535770e-01, 1.05710365e-01,\n",
              "        8.80667705e-01, 3.43372482e-08, 7.89128066e-01, 8.80667909e-01,\n",
              "        8.64004984e-06, 7.25780631e-01, 8.80668122e-01, 5.58164423e-03,\n",
              "        1.83928134e-11, 7.73630708e-01, 5.39113938e-02, 8.80668088e-01,\n",
              "        8.15390919e-01, 8.80668101e-01, 7.40946843e-01, 8.80667942e-01,\n",
              "        8.80667881e-01, 3.42948368e-01, 7.35004989e-01, 8.75811318e-01,\n",
              "        3.61050471e-01, 5.52329337e-01, 4.79527108e-05, 8.41346700e-01,\n",
              "        5.85415554e-01, 2.23807447e-04, 8.80668099e-01, 6.23308453e-01,\n",
              "        9.86270990e-05, 7.28038190e-01, 8.80668080e-01, 8.80668041e-01,\n",
              "        7.75401345e-01, 8.72011362e-01, 2.59427547e-03, 5.53481840e-01,\n",
              "        8.80668067e-01, 4.82522677e-02, 1.77509751e-02, 2.35026557e-05,\n",
              "        8.80668044e-01, 3.94488302e-01, 4.05875428e-16, 1.18540626e-01,\n",
              "        8.28920858e-01, 8.28596376e-01, 8.80668037e-01, 2.62408883e-02,\n",
              "        5.66434779e-07, 3.33544009e-05, 7.29841629e-01, 5.75059848e-01,\n",
              "        8.80667939e-01, 2.14815896e-02, 8.80667857e-01, 6.07086048e-05,\n",
              "        8.63459308e-01, 2.54393733e-08, 8.80668078e-01, 8.80667935e-01,\n",
              "        7.62527978e-01, 8.80667383e-01, 1.59657860e-04, 8.80667963e-01,\n",
              "        8.35781844e-01, 8.46525005e-01, 6.04044389e-01, 1.21457184e-06,\n",
              "        8.63439897e-01, 8.52687296e-01, 8.55429405e-01, 4.31789948e-01,\n",
              "        9.70558071e-06, 8.80667892e-01, 5.22199609e-18, 8.54558804e-01,\n",
              "        5.30128289e-09, 1.88294958e-01, 7.35276044e-01, 8.80667383e-01,\n",
              "        8.80667850e-01, 8.80667973e-01, 8.65743572e-01, 8.80668030e-01,\n",
              "        1.55333838e-04, 3.73440512e-01, 8.80667917e-01, 8.79013869e-01,\n",
              "        8.35455866e-01, 8.80667383e-01, 4.78921246e-06, 7.93218923e-01,\n",
              "        8.80667958e-01, 5.84979364e-02, 8.80667457e-01, 4.14643748e-08,\n",
              "        7.17421621e-01, 8.80668111e-01, 8.80667434e-01, 8.80668083e-01,\n",
              "        1.61352937e-01, 8.79133116e-03, 5.65729938e-06, 5.00128064e-01,\n",
              "        1.28513086e-04, 5.00061780e-10, 2.24483462e-02, 1.39776514e-18,\n",
              "        7.37907917e-01, 7.44878942e-04, 8.80668121e-01, 7.11466297e-01,\n",
              "        3.58140939e-05, 8.74008889e-01, 5.78156604e-01, 8.80667510e-01,\n",
              "        5.74294683e-01, 7.84794795e-01, 8.80668037e-01, 8.74408734e-01,\n",
              "        6.73737361e-01, 1.18761147e-05, 1.62178439e-05, 8.38938082e-07,\n",
              "        7.48658030e-01, 2.33590069e-05, 8.80667942e-01, 1.40945297e-05,\n",
              "        1.12450110e-03, 8.64837039e-01, 4.57436644e-04, 2.57375124e-03,\n",
              "        8.78747253e-01, 8.68021332e-01, 8.19491465e-01, 4.26558164e-01,\n",
              "        8.80667974e-01, 8.45515980e-01, 8.42671382e-01, 2.00831070e-03,\n",
              "        4.77778401e-01, 3.56166300e-03, 1.32860086e-09, 1.97625435e-01,\n",
              "        8.76984841e-01, 5.82463329e-01, 7.81925226e-01, 8.34055222e-01,\n",
              "        7.49726906e-01, 8.65895421e-03, 1.99636136e-01, 1.45753135e-05,\n",
              "        8.72453993e-01, 8.09209986e-01, 8.73107799e-01, 3.87075494e-06,\n",
              "        6.52548443e-02, 3.59693095e-06, 4.98834628e-01, 8.96366044e-06,\n",
              "        8.79076876e-01, 9.78027409e-06, 8.52092699e-01, 7.04229361e-01,\n",
              "        2.10500576e-01, 7.19017647e-01, 6.59103747e-01, 7.45390904e-01,\n",
              "        7.07994540e-05, 8.80667383e-01, 2.55449360e-06, 1.52034504e-01,\n",
              "        1.62151271e-02, 8.62964135e-01, 8.80667887e-01, 8.80668154e-01,\n",
              "        3.07669777e-04, 8.80668113e-01, 8.80668012e-01, 8.80667880e-01,\n",
              "        2.00849415e-30, 1.04138580e-29, 8.80668127e-01, 8.80667702e-01,\n",
              "        8.80667842e-01, 4.14595791e-02, 1.42124125e-06, 8.02200795e-01,\n",
              "        1.09859241e-06, 7.03415375e-01, 6.00629201e-03, 8.80667987e-01,\n",
              "        8.80668066e-01, 9.08918303e-03, 8.80667715e-01, 8.76961580e-01,\n",
              "        5.78412097e-01, 8.73793349e-01, 8.02448506e-01, 7.48695458e-05,\n",
              "        8.12147857e-01, 1.62519352e-04, 8.98275535e-03, 9.14862491e-09,\n",
              "        8.80667914e-01, 7.59026858e-01, 8.48165618e-01, 8.69049399e-01,\n",
              "        8.80668057e-01, 6.99884549e-01, 8.61338602e-01, 8.80667904e-01,\n",
              "        5.55795533e-01, 3.58272442e-09, 5.57060583e-01, 5.53450000e-01,\n",
              "        2.37693344e-06, 8.80667406e-01, 2.85717950e-01, 8.80667981e-01,\n",
              "        8.23841229e-14, 8.11668237e-01, 1.73170994e-01, 5.79766631e-01,\n",
              "        1.47423992e-12, 8.80668008e-01, 8.80667508e-01, 1.12418882e-14,\n",
              "        7.39874058e-02, 8.75349838e-01, 3.08904889e-06, 8.80667973e-01,\n",
              "        8.80667999e-01, 8.80667886e-01, 1.40315118e-05, 3.77497221e-02,\n",
              "        1.63858561e-17, 5.63643712e-01, 7.58371567e-01, 7.75219541e-01,\n",
              "        8.68122057e-01, 7.95349550e-01, 8.80668012e-01, 8.74372882e-01,\n",
              "        8.80667851e-01, 8.80667565e-01, 9.19501364e-04, 8.80667903e-01,\n",
              "        1.82287317e-01, 8.56202588e-01, 1.46037698e-01, 7.50965617e-01,\n",
              "        4.01056509e-07, 8.80667403e-01, 8.80667626e-01, 8.79716029e-01,\n",
              "        2.74445630e-01, 8.53139199e-01, 1.11228820e-01, 8.80668117e-01,\n",
              "        8.80667559e-01, 8.80667777e-01, 3.03108218e-04, 8.15554740e-01,\n",
              "        8.94000893e-04, 1.46036796e-03, 8.80668089e-01, 4.49995836e-02,\n",
              "        8.72346281e-01, 8.53471756e-01, 8.67750960e-01, 8.80667886e-01,\n",
              "        8.80668075e-01, 2.75568857e-05, 1.93137972e-06, 6.40070414e-17,\n",
              "        8.80668048e-01, 8.66023751e-01, 3.17436626e-02, 3.13728419e-03,\n",
              "        8.72940269e-01, 8.79923822e-01, 8.80667383e-01, 8.67146894e-01,\n",
              "        2.10611289e-06, 1.98816447e-09, 8.80668055e-01, 8.51920773e-01,\n",
              "        8.42035331e-01, 8.47962395e-01, 1.80591489e-10, 8.20651942e-01,\n",
              "        4.47733467e-01, 8.77848399e-01, 8.73088449e-01, 8.77301248e-01,\n",
              "        8.80667573e-01, 7.94364268e-01, 2.88717097e-02, 8.74646471e-01,\n",
              "        4.75988015e-13, 8.47893858e-01, 8.27188891e-01, 4.35926409e-02,\n",
              "        8.67794639e-01, 1.78363927e-03, 8.80668129e-01, 5.87922444e-03,\n",
              "        8.07823970e-01, 1.48711011e-01, 8.77171864e-01, 4.58232032e-03,\n",
              "        2.91658555e-01, 8.80667959e-01, 8.37048553e-01, 8.80667802e-01,\n",
              "        8.80667584e-01, 8.80668088e-01, 8.11991050e-01, 2.19203974e-01,\n",
              "        8.80667870e-01, 8.80667850e-01, 1.38933655e-11, 8.80668090e-01,\n",
              "        8.07276881e-01, 7.48518364e-01, 8.79547141e-01, 4.31839777e-08,\n",
              "        1.17901127e-13, 4.01060157e-02, 1.03047005e-05, 8.28009922e-01,\n",
              "        8.37482352e-01, 6.97195977e-02, 7.44223611e-18, 8.80667917e-01,\n",
              "        6.59437519e-02, 2.10655203e-02, 8.36490349e-01, 8.80667383e-01,\n",
              "        8.80668096e-01, 8.73883793e-01, 3.42771234e-17, 1.07652939e-04,\n",
              "        8.80667383e-01, 8.77537984e-01, 7.74963792e-05, 4.35518377e-05,\n",
              "        8.80667893e-01, 7.06694189e-01, 7.37607758e-01, 8.80668085e-01,\n",
              "        1.05074728e-15, 8.80668195e-01, 7.90044025e-01, 8.80667465e-01,\n",
              "        7.96748677e-01, 1.23073126e-02, 1.91625631e-04, 8.80667490e-01,\n",
              "        8.67378273e-01, 8.79029699e-01, 7.96019514e-01, 8.80667966e-01,\n",
              "        6.53223456e-01, 2.64001405e-01, 1.25029987e-02, 8.28844918e-01,\n",
              "        6.09689331e-01, 8.64622218e-01, 8.39694180e-01, 3.41987967e-04,\n",
              "        8.80667979e-01, 8.40607862e-01, 1.66641548e-03, 1.86600820e-05,\n",
              "        3.32607621e-02, 7.66307848e-01, 8.80667888e-01, 8.80667927e-01,\n",
              "        8.80668082e-01, 8.80667477e-01, 6.25002554e-01, 2.08591484e-06,\n",
              "        7.98912797e-01, 1.97039859e-02, 8.67607758e-01, 8.80668086e-01,\n",
              "        7.46723438e-06, 8.80668048e-01, 8.07586735e-01, 9.07020642e-12,\n",
              "        8.48720554e-01, 1.83583081e-03, 6.46013534e-01]])"
            ]
          },
          "metadata": {
            "tags": []
          },
          "execution_count": 38
        }
      ]
    },
    {
      "cell_type": "code",
      "metadata": {
        "id": "Xc5R1ouxV1Fn",
        "colab_type": "code",
        "colab": {
          "base_uri": "https://localhost:8080/",
          "height": 884
        },
        "outputId": "ae8b7622-1c5b-4755-cd88-edc178b979e8"
      },
      "source": [
        "#Ajustamos o shape para treino\n",
        "y_pred_treino = y_pred_treino.reshape(-1)\n",
        "y_treino = y_treino.reshape(-1)\n",
        "y_pred_treino > 0.5"
      ],
      "execution_count": 39,
      "outputs": [
        {
          "output_type": "execute_result",
          "data": {
            "text/plain": [
              "array([False, False, False,  True, False, False, False,  True,  True,\n",
              "        True, False, False,  True,  True,  True, False,  True,  True,\n",
              "        True,  True, False,  True,  True,  True,  True, False, False,\n",
              "        True,  True,  True, False,  True,  True, False, False, False,\n",
              "        True,  True,  True,  True,  True, False,  True, False, False,\n",
              "        True, False,  True,  True,  True,  True, False,  True,  True,\n",
              "        True,  True, False,  True,  True, False,  True, False,  True,\n",
              "        True, False,  True,  True, False, False,  True, False,  True,\n",
              "        True,  True,  True,  True,  True, False,  True,  True, False,\n",
              "        True, False,  True,  True, False,  True,  True, False,  True,\n",
              "        True,  True,  True,  True, False,  True,  True, False, False,\n",
              "       False,  True, False, False, False,  True,  True,  True, False,\n",
              "       False, False,  True,  True,  True, False,  True, False,  True,\n",
              "       False,  True,  True,  True,  True, False,  True,  True,  True,\n",
              "        True, False,  True,  True,  True, False, False,  True, False,\n",
              "        True, False, False,  True,  True,  True,  True,  True,  True,\n",
              "       False, False,  True,  True,  True,  True, False,  True,  True,\n",
              "       False,  True, False,  True,  True,  True,  True, False, False,\n",
              "       False,  True, False, False, False, False,  True, False,  True,\n",
              "        True, False,  True,  True,  True,  True,  True,  True,  True,\n",
              "        True, False, False, False,  True, False,  True, False, False,\n",
              "        True, False, False,  True,  True,  True, False,  True,  True,\n",
              "        True, False, False, False, False, False,  True,  True,  True,\n",
              "        True,  True, False, False, False,  True,  True,  True, False,\n",
              "       False, False, False, False,  True, False,  True,  True, False,\n",
              "        True,  True,  True, False,  True, False, False, False,  True,\n",
              "        True,  True, False,  True,  True,  True, False, False,  True,\n",
              "        True,  True, False, False,  True, False,  True, False,  True,\n",
              "        True, False,  True,  True,  True,  True,  True, False,  True,\n",
              "       False, False, False,  True,  True,  True,  True,  True,  True,\n",
              "        True,  True,  True, False,  True,  True, False,  True, False,\n",
              "        True, False,  True, False,  True, False,  True,  True, False,\n",
              "       False,  True, False,  True,  True,  True, False, False, False,\n",
              "        True,  True,  True,  True,  True,  True,  True,  True,  True,\n",
              "       False,  True, False,  True, False,  True, False,  True,  True,\n",
              "        True, False,  True, False,  True,  True,  True, False,  True,\n",
              "       False, False,  True, False,  True,  True,  True,  True,  True,\n",
              "       False, False, False,  True,  True, False, False,  True,  True,\n",
              "        True,  True, False, False,  True,  True,  True,  True, False,\n",
              "        True, False,  True,  True,  True,  True,  True, False,  True,\n",
              "       False,  True,  True, False,  True, False,  True, False,  True,\n",
              "       False,  True, False, False,  True,  True,  True,  True,  True,\n",
              "        True, False,  True,  True, False,  True,  True,  True,  True,\n",
              "       False, False, False, False,  True,  True, False, False,  True,\n",
              "       False, False,  True,  True,  True,  True, False, False,  True,\n",
              "        True, False, False,  True,  True,  True,  True, False,  True,\n",
              "        True,  True,  True, False, False,  True,  True,  True,  True,\n",
              "        True,  True, False, False,  True,  True,  True,  True, False,\n",
              "        True,  True, False, False, False,  True,  True,  True,  True,\n",
              "        True,  True, False,  True, False,  True,  True, False,  True,\n",
              "        True, False,  True, False,  True])"
            ]
          },
          "metadata": {
            "tags": []
          },
          "execution_count": 39
        }
      ]
    },
    {
      "cell_type": "code",
      "metadata": {
        "id": "5MhUevToV1Fq",
        "colab_type": "code",
        "colab": {
          "base_uri": "https://localhost:8080/",
          "height": 884
        },
        "outputId": "7f3d7080-2cb8-43f0-ef02-3d1f38920fb2"
      },
      "source": [
        "#Conversão das previsões binário de classe (0 ou 1), usando como threshold o valor de 0.5 da probabilidade\n",
        "y_pred_treino = (1 * (y_pred_treino) > 0.5)\n",
        "y_pred_treino"
      ],
      "execution_count": 40,
      "outputs": [
        {
          "output_type": "execute_result",
          "data": {
            "text/plain": [
              "array([False, False, False,  True, False, False, False,  True,  True,\n",
              "        True, False, False,  True,  True,  True, False,  True,  True,\n",
              "        True,  True, False,  True,  True,  True,  True, False, False,\n",
              "        True,  True,  True, False,  True,  True, False, False, False,\n",
              "        True,  True,  True,  True,  True, False,  True, False, False,\n",
              "        True, False,  True,  True,  True,  True, False,  True,  True,\n",
              "        True,  True, False,  True,  True, False,  True, False,  True,\n",
              "        True, False,  True,  True, False, False,  True, False,  True,\n",
              "        True,  True,  True,  True,  True, False,  True,  True, False,\n",
              "        True, False,  True,  True, False,  True,  True, False,  True,\n",
              "        True,  True,  True,  True, False,  True,  True, False, False,\n",
              "       False,  True, False, False, False,  True,  True,  True, False,\n",
              "       False, False,  True,  True,  True, False,  True, False,  True,\n",
              "       False,  True,  True,  True,  True, False,  True,  True,  True,\n",
              "        True, False,  True,  True,  True, False, False,  True, False,\n",
              "        True, False, False,  True,  True,  True,  True,  True,  True,\n",
              "       False, False,  True,  True,  True,  True, False,  True,  True,\n",
              "       False,  True, False,  True,  True,  True,  True, False, False,\n",
              "       False,  True, False, False, False, False,  True, False,  True,\n",
              "        True, False,  True,  True,  True,  True,  True,  True,  True,\n",
              "        True, False, False, False,  True, False,  True, False, False,\n",
              "        True, False, False,  True,  True,  True, False,  True,  True,\n",
              "        True, False, False, False, False, False,  True,  True,  True,\n",
              "        True,  True, False, False, False,  True,  True,  True, False,\n",
              "       False, False, False, False,  True, False,  True,  True, False,\n",
              "        True,  True,  True, False,  True, False, False, False,  True,\n",
              "        True,  True, False,  True,  True,  True, False, False,  True,\n",
              "        True,  True, False, False,  True, False,  True, False,  True,\n",
              "        True, False,  True,  True,  True,  True,  True, False,  True,\n",
              "       False, False, False,  True,  True,  True,  True,  True,  True,\n",
              "        True,  True,  True, False,  True,  True, False,  True, False,\n",
              "        True, False,  True, False,  True, False,  True,  True, False,\n",
              "       False,  True, False,  True,  True,  True, False, False, False,\n",
              "        True,  True,  True,  True,  True,  True,  True,  True,  True,\n",
              "       False,  True, False,  True, False,  True, False,  True,  True,\n",
              "        True, False,  True, False,  True,  True,  True, False,  True,\n",
              "       False, False,  True, False,  True,  True,  True,  True,  True,\n",
              "       False, False, False,  True,  True, False, False,  True,  True,\n",
              "        True,  True, False, False,  True,  True,  True,  True, False,\n",
              "        True, False,  True,  True,  True,  True,  True, False,  True,\n",
              "       False,  True,  True, False,  True, False,  True, False,  True,\n",
              "       False,  True, False, False,  True,  True,  True,  True,  True,\n",
              "        True, False,  True,  True, False,  True,  True,  True,  True,\n",
              "       False, False, False, False,  True,  True, False, False,  True,\n",
              "       False, False,  True,  True,  True,  True, False, False,  True,\n",
              "        True, False, False,  True,  True,  True,  True, False,  True,\n",
              "        True,  True,  True, False, False,  True,  True,  True,  True,\n",
              "        True,  True, False, False,  True,  True,  True,  True, False,\n",
              "        True,  True, False, False, False,  True,  True,  True,  True,\n",
              "        True,  True, False,  True, False,  True,  True, False,  True,\n",
              "        True, False,  True, False,  True])"
            ]
          },
          "metadata": {
            "tags": []
          },
          "execution_count": 40
        }
      ]
    },
    {
      "cell_type": "code",
      "metadata": {
        "id": "61Rlu0uMV1Ft",
        "colab_type": "code",
        "colab": {
          "base_uri": "https://localhost:8080/",
          "height": 34
        },
        "outputId": "0f6a19b7-bf5f-4f91-968d-dd10c6ccfc4d"
      },
      "source": [
        "aval_treino = sum(1 * (y_pred_treino == y_treino)) / len(y_pred_treino) * 100\n",
        "print(\"Acurácia em Treino: \" + str(aval_treino))"
      ],
      "execution_count": 41,
      "outputs": [
        {
          "output_type": "stream",
          "text": [
            "Acurácia em Treino: 92.08791208791209\n"
          ],
          "name": "stdout"
        }
      ]
    },
    {
      "cell_type": "code",
      "metadata": {
        "id": "ciBAOlVzV1Fx",
        "colab_type": "code",
        "colab": {
          "base_uri": "https://localhost:8080/",
          "height": 170
        },
        "outputId": "aebc3f83-cf6f-4ee0-8958-7ba31cfe7e2c"
      },
      "source": [
        "print(classification_report(y_treino, y_pred_treino, target_names = ['Maligno', 'Benigno']))"
      ],
      "execution_count": 42,
      "outputs": [
        {
          "output_type": "stream",
          "text": [
            "              precision    recall  f1-score   support\n",
            "\n",
            "     Maligno       0.91      0.89      0.90       178\n",
            "     Benigno       0.93      0.94      0.94       277\n",
            "\n",
            "    accuracy                           0.92       455\n",
            "   macro avg       0.92      0.91      0.92       455\n",
            "weighted avg       0.92      0.92      0.92       455\n",
            "\n"
          ],
          "name": "stdout"
        }
      ]
    },
    {
      "cell_type": "code",
      "metadata": {
        "id": "4aJuBOmBV1F2",
        "colab_type": "code",
        "colab": {
          "base_uri": "https://localhost:8080/",
          "height": 510
        },
        "outputId": "8b45ef08-8b6b-45a5-d011-1dcf5e3c4c20"
      },
      "source": [
        "#Previsões usando dados de teste\n",
        "y_pred_teste = predict(X_teste, parametros)\n",
        "y_pred_teste"
      ],
      "execution_count": 43,
      "outputs": [
        {
          "output_type": "execute_result",
          "data": {
            "text/plain": [
              "array([[8.80668109e-01, 8.80667900e-01, 8.68636195e-01, 3.08275515e-07,\n",
              "        8.73153676e-01, 6.39052690e-01, 8.80668063e-01, 6.77989194e-01,\n",
              "        8.80667383e-01, 2.16105724e-01, 8.32598494e-01, 8.80667962e-01,\n",
              "        8.80667936e-01, 8.61301033e-01, 4.09261601e-24, 1.48533200e-09,\n",
              "        6.09105271e-04, 7.64530252e-01, 8.80667978e-01, 8.80667485e-01,\n",
              "        8.80667926e-01, 8.78157698e-01, 8.80667999e-01, 8.46125428e-01,\n",
              "        8.80667383e-01, 8.17937203e-01, 8.01780533e-01, 8.80667867e-01,\n",
              "        8.66399650e-01, 8.14416220e-01, 8.80667959e-01, 4.86759845e-01,\n",
              "        8.80667814e-01, 7.71433752e-01, 7.59377925e-01, 8.74630620e-01,\n",
              "        8.28495708e-01, 5.52131194e-02, 3.90532514e-01, 8.80668063e-01,\n",
              "        8.80667576e-01, 2.03751354e-01, 8.13690372e-01, 8.80519981e-01,\n",
              "        8.79086444e-01, 4.59715312e-02, 3.14334138e-03, 8.47418754e-01,\n",
              "        8.72651262e-01, 8.11989363e-01, 6.94183333e-08, 8.79575552e-01,\n",
              "        8.80667658e-01, 7.79350899e-01, 8.70753711e-01, 2.59178513e-02,\n",
              "        8.79461731e-04, 7.98855159e-03, 1.00773759e-03, 8.57347128e-01,\n",
              "        5.32711061e-01, 8.80667867e-01, 5.97288035e-01, 6.32613147e-01,\n",
              "        7.86089824e-01, 8.80668023e-01, 8.70267840e-01, 8.74747419e-01,\n",
              "        5.27945457e-04, 6.69265401e-01, 8.80668049e-01, 8.80667955e-01,\n",
              "        6.41434556e-01, 8.80667783e-01, 8.49998260e-01, 8.80667857e-01,\n",
              "        6.60835557e-01, 3.38518072e-07, 8.75230065e-01, 1.93662535e-06,\n",
              "        7.36912826e-01, 3.64318374e-01, 6.84224186e-08, 1.15441796e-03,\n",
              "        8.74284520e-01, 6.33509774e-01, 8.80667978e-01, 7.74414845e-06,\n",
              "        3.06838366e-06, 8.03665221e-01, 7.18230273e-01, 8.80668038e-01,\n",
              "        8.80667800e-01, 8.80668232e-01, 8.80668138e-01, 6.97342102e-03,\n",
              "        8.62227693e-01, 8.80667836e-01, 8.80668048e-01, 8.55386504e-01,\n",
              "        7.19148359e-03, 7.19451844e-01, 8.80667730e-01, 7.71766046e-01,\n",
              "        3.68731226e-10, 1.76448677e-02, 8.80667922e-01, 4.03462177e-10,\n",
              "        8.80668011e-01, 3.48066437e-01, 1.94606459e-05, 8.34438629e-01,\n",
              "        8.80668142e-01, 3.05570574e-01]])"
            ]
          },
          "metadata": {
            "tags": []
          },
          "execution_count": 43
        }
      ]
    },
    {
      "cell_type": "code",
      "metadata": {
        "id": "DEP2w0cbV1F7",
        "colab_type": "code",
        "colab": {
          "base_uri": "https://localhost:8080/",
          "height": 119
        },
        "outputId": "2b25d54a-d668-4e64-d73e-5d68971cd83b"
      },
      "source": [
        "#Ajuste dos shapes\n",
        "y_pred_teste = y_pred_teste.reshape(-1)\n",
        "y_teste =y_teste.reshape(-1)\n",
        "\n",
        "#Conversão das previsões binário\n",
        "y_pred_teste = 1* (y_pred_teste > 0.5)\n",
        "\n",
        "y_pred_teste"
      ],
      "execution_count": 44,
      "outputs": [
        {
          "output_type": "execute_result",
          "data": {
            "text/plain": [
              "array([1, 1, 1, 0, 1, 1, 1, 1, 1, 0, 1, 1, 1, 1, 0, 0, 0, 1, 1, 1, 1, 1,\n",
              "       1, 1, 1, 1, 1, 1, 1, 1, 1, 0, 1, 1, 1, 1, 1, 0, 0, 1, 1, 0, 1, 1,\n",
              "       1, 0, 0, 1, 1, 1, 0, 1, 1, 1, 1, 0, 0, 0, 0, 1, 1, 1, 1, 1, 1, 1,\n",
              "       1, 1, 0, 1, 1, 1, 1, 1, 1, 1, 1, 0, 1, 0, 1, 0, 0, 0, 1, 1, 1, 0,\n",
              "       0, 1, 1, 1, 1, 1, 1, 0, 1, 1, 1, 1, 0, 1, 1, 1, 0, 0, 1, 0, 1, 0,\n",
              "       0, 1, 1, 0])"
            ]
          },
          "metadata": {
            "tags": []
          },
          "execution_count": 44
        }
      ]
    },
    {
      "cell_type": "code",
      "metadata": {
        "id": "79iyTyc5V1F_",
        "colab_type": "code",
        "colab": {
          "base_uri": "https://localhost:8080/",
          "height": 34
        },
        "outputId": "abaf407a-baec-4260-a660-f375f8c8fc76"
      },
      "source": [
        "#Acurácia\n",
        "acuraciaFim = sum(1* (y_pred_teste == y_teste)) / len(y_pred_teste) * 100\n",
        "print(\"Acurácia em dados de Teste: \"+ str(acuraciaFim))"
      ],
      "execution_count": 45,
      "outputs": [
        {
          "output_type": "stream",
          "text": [
            "Acurácia em dados de Teste: 92.98245614035088\n"
          ],
          "name": "stdout"
        }
      ]
    },
    {
      "cell_type": "code",
      "metadata": {
        "id": "Id52h6J0V1GF",
        "colab_type": "code",
        "colab": {
          "base_uri": "https://localhost:8080/",
          "height": 170
        },
        "outputId": "0c620bd5-df9f-48b9-97c9-b6c8f3875fb4"
      },
      "source": [
        "print(classification_report(y_teste, y_pred_teste, target_names = ['Maligno', 'Benigno']))"
      ],
      "execution_count": 46,
      "outputs": [
        {
          "output_type": "stream",
          "text": [
            "              precision    recall  f1-score   support\n",
            "\n",
            "     Maligno       0.91      0.85      0.88        34\n",
            "     Benigno       0.94      0.96      0.95        80\n",
            "\n",
            "    accuracy                           0.93       114\n",
            "   macro avg       0.92      0.91      0.91       114\n",
            "weighted avg       0.93      0.93      0.93       114\n",
            "\n"
          ],
          "name": "stdout"
        }
      ]
    }
  ]
}